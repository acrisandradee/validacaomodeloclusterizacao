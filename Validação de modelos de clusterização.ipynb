{
  "nbformat": 4,
  "nbformat_minor": 0,
  "metadata": {
    "colab": {
      "provenance": [],
      "authorship_tag": "ABX9TyPUpfAiwph0iJYyggDUC4uS",
      "include_colab_link": true
    },
    "kernelspec": {
      "name": "python3",
      "display_name": "Python 3"
    },
    "language_info": {
      "name": "python"
    }
  },
  "cells": [
    {
      "cell_type": "markdown",
      "metadata": {
        "id": "view-in-github",
        "colab_type": "text"
      },
      "source": [
        "<a href=\"https://colab.research.google.com/github/acrisandradee/validacaomodeloclusterizacao/blob/main/Valida%C3%A7%C3%A3o%20de%20modelos%20de%20clusteriza%C3%A7%C3%A3o.ipynb\" target=\"_parent\"><img src=\"https://colab.research.google.com/assets/colab-badge.svg\" alt=\"Open In Colab\"/></a>"
      ]
    },
    {
      "cell_type": "markdown",
      "source": [
        "\n",
        "![image.png](data:image/png;base64,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)\n",
        "\n",
        "\n",
        "\n",
        "# **Algoritmos de Inteligência Artificial para clusterização**\n",
        "\n",
        "https://github.com/acrisandradee/algoritimoIAparaclusterizacao/blob/master/pd_cris_andrade.ipynb\n",
        "\n",
        "Aluno: Cristina de assis andrade\n",
        "\n",
        "Professor: Charles Bezerra do Prado\n"
      ],
      "metadata": {
        "id": "IQRSS0WAjT3V"
      }
    },
    {
      "cell_type": "markdown",
      "source": [
        "# **Infraestrutura**"
      ],
      "metadata": {
        "id": "ql2djHS2klfa"
      }
    },
    {
      "cell_type": "markdown",
      "source": [
        "Para as questões a seguir, você deverá executar códigos em um notebook Jupyter, rodando em ambiente local, certifique-se que:"
      ],
      "metadata": {
        "id": "sdYFj4FsmGQW"
      }
    },
    {
      "cell_type": "markdown",
      "source": [
        "> 1. Você está rodando em Python 3.9+\n",
        "\n",
        "\n",
        "\n",
        "\n"
      ],
      "metadata": {
        "id": "Zt3ZbSjlmIE1"
      }
    },
    {
      "cell_type": "code",
      "source": [
        "!python --version\n"
      ],
      "metadata": {
        "colab": {
          "base_uri": "https://localhost:8080/"
        },
        "id": "FBh14m9Yjh9U",
        "outputId": "4ffffdfe-082e-4097-9070-1e503baca4b1"
      },
      "execution_count": 1,
      "outputs": [
        {
          "output_type": "stream",
          "name": "stdout",
          "text": [
            "Python 3.10.12\n"
          ]
        }
      ]
    },
    {
      "cell_type": "markdown",
      "source": [
        "> 2. Você está usando um ambiente virtual: Virtualenv ou Anaconda"
      ],
      "metadata": {
        "id": "Zl0vDvEsmLaG"
      }
    },
    {
      "cell_type": "code",
      "source": [
        "!pip install virtualenv"
      ],
      "metadata": {
        "colab": {
          "base_uri": "https://localhost:8080/"
        },
        "id": "jR4hn5uUjwMk",
        "outputId": "84540581-6d0b-4d2a-e573-d07ae46b10ac"
      },
      "execution_count": 2,
      "outputs": [
        {
          "output_type": "stream",
          "name": "stdout",
          "text": [
            "Collecting virtualenv\n",
            "  Downloading virtualenv-20.28.0-py3-none-any.whl.metadata (4.4 kB)\n",
            "Collecting distlib<1,>=0.3.7 (from virtualenv)\n",
            "  Downloading distlib-0.3.9-py2.py3-none-any.whl.metadata (5.2 kB)\n",
            "Requirement already satisfied: filelock<4,>=3.12.2 in /usr/local/lib/python3.10/dist-packages (from virtualenv) (3.16.1)\n",
            "Requirement already satisfied: platformdirs<5,>=3.9.1 in /usr/local/lib/python3.10/dist-packages (from virtualenv) (4.3.6)\n",
            "Downloading virtualenv-20.28.0-py3-none-any.whl (4.3 MB)\n",
            "\u001b[?25l   \u001b[90m━━━━━━━━━━━━━━━━━━━━━━━━━━━━━━━━━━━━━━━━\u001b[0m \u001b[32m0.0/4.3 MB\u001b[0m \u001b[31m?\u001b[0m eta \u001b[36m-:--:--\u001b[0m\r\u001b[2K   \u001b[91m━━━━━━━\u001b[0m\u001b[90m╺\u001b[0m\u001b[90m━━━━━━━━━━━━━━━━━━━━━━━━━━━━━━━━\u001b[0m \u001b[32m0.8/4.3 MB\u001b[0m \u001b[31m23.1 MB/s\u001b[0m eta \u001b[36m0:00:01\u001b[0m\r\u001b[2K   \u001b[91m━━━━━━━━━━━━━━━━━━━━━━━━━━━━━━━━━━━━━━━\u001b[0m\u001b[91m╸\u001b[0m \u001b[32m4.3/4.3 MB\u001b[0m \u001b[31m73.6 MB/s\u001b[0m eta \u001b[36m0:00:01\u001b[0m\r\u001b[2K   \u001b[90m━━━━━━━━━━━━━━━━━━━━━━━━━━━━━━━━━━━━━━━━\u001b[0m \u001b[32m4.3/4.3 MB\u001b[0m \u001b[31m48.0 MB/s\u001b[0m eta \u001b[36m0:00:00\u001b[0m\n",
            "\u001b[?25hDownloading distlib-0.3.9-py2.py3-none-any.whl (468 kB)\n",
            "\u001b[2K   \u001b[90m━━━━━━━━━━━━━━━━━━━━━━━━━━━━━━━━━━━━━━━━\u001b[0m \u001b[32m469.0/469.0 kB\u001b[0m \u001b[31m29.0 MB/s\u001b[0m eta \u001b[36m0:00:00\u001b[0m\n",
            "\u001b[?25hInstalling collected packages: distlib, virtualenv\n",
            "Successfully installed distlib-0.3.9 virtualenv-20.28.0\n"
          ]
        }
      ]
    },
    {
      "cell_type": "code",
      "source": [
        "!virtualenv ambienteVirtual"
      ],
      "metadata": {
        "colab": {
          "base_uri": "https://localhost:8080/"
        },
        "id": "9jUYwJtyj3aN",
        "outputId": "92722c4e-e6c0-46f8-a519-a6e78a883e93"
      },
      "execution_count": 3,
      "outputs": [
        {
          "output_type": "stream",
          "name": "stdout",
          "text": [
            "created virtual environment CPython3.10.12.final.0-64 in 1184ms\n",
            "  creator CPython3Posix(dest=/content/ambienteVirtual, clear=False, no_vcs_ignore=False, global=False)\n",
            "  seeder FromAppData(download=False, pip=bundle, setuptools=bundle, wheel=bundle, via=copy, app_data_dir=/root/.local/share/virtualenv)\n",
            "    added seed packages: pip==24.3.1, setuptools==75.6.0, wheel==0.45.1\n",
            "  activators BashActivator,CShellActivator,FishActivator,NushellActivator,PowerShellActivator,PythonActivator\n"
          ]
        }
      ]
    },
    {
      "cell_type": "code",
      "source": [
        "!python3 -m venv /content/ambienteVirtual"
      ],
      "metadata": {
        "colab": {
          "base_uri": "https://localhost:8080/"
        },
        "id": "mBxm4MZ5kx21",
        "outputId": "cd113c65-fd42-4412-d451-df56003ceb1d"
      },
      "execution_count": 8,
      "outputs": [
        {
          "output_type": "stream",
          "name": "stdout",
          "text": [
            "The virtual environment was not created successfully because ensurepip is not\n",
            "available.  On Debian/Ubuntu systems, you need to install the python3-venv\n",
            "package using the following command.\n",
            "\n",
            "    apt install python3.10-venv\n",
            "\n",
            "You may need to use sudo with that command.  After installing the python3-venv\n",
            "package, recreate your virtual environment.\n",
            "\n",
            "Failing command: /content/ambienteVirtual/bin/python3\n",
            "\n"
          ]
        }
      ]
    },
    {
      "cell_type": "markdown",
      "source": [
        "> 3. Todas as bibliotecas usadas nesse exercícios estão instaladas em um ambiente virtual específico"
      ],
      "metadata": {
        "id": "mdfSL-KrmXIX"
      }
    },
    {
      "cell_type": "code",
      "source": [
        "!ambienteVirtual/bin/python -m pip install numpy pandas matplotlib seaborn scikit-learn tensorflow keras torch notebook\n"
      ],
      "metadata": {
        "colab": {
          "base_uri": "https://localhost:8080/"
        },
        "id": "K3BpOl5ykn0V",
        "outputId": "35349b6c-50bf-4e56-a9bd-8810c86bec28"
      },
      "execution_count": 10,
      "outputs": [
        {
          "output_type": "stream",
          "name": "stdout",
          "text": [
            "Collecting numpy\n",
            "  Downloading numpy-2.1.3-cp310-cp310-manylinux_2_17_x86_64.manylinux2014_x86_64.whl.metadata (62 kB)\n",
            "Collecting pandas\n",
            "  Downloading pandas-2.2.3-cp310-cp310-manylinux_2_17_x86_64.manylinux2014_x86_64.whl.metadata (89 kB)\n",
            "Collecting matplotlib\n",
            "  Downloading matplotlib-3.9.3-cp310-cp310-manylinux_2_17_x86_64.manylinux2014_x86_64.whl.metadata (11 kB)\n",
            "Collecting seaborn\n",
            "  Downloading seaborn-0.13.2-py3-none-any.whl.metadata (5.4 kB)\n",
            "Collecting scikit-learn\n",
            "  Downloading scikit_learn-1.5.2-cp310-cp310-manylinux_2_17_x86_64.manylinux2014_x86_64.whl.metadata (13 kB)\n",
            "Collecting tensorflow\n",
            "  Downloading tensorflow-2.18.0-cp310-cp310-manylinux_2_17_x86_64.manylinux2014_x86_64.whl.metadata (4.1 kB)\n",
            "Collecting keras\n",
            "  Downloading keras-3.7.0-py3-none-any.whl.metadata (5.8 kB)\n",
            "Collecting torch\n",
            "  Downloading torch-2.5.1-cp310-cp310-manylinux1_x86_64.whl.metadata (28 kB)\n",
            "Collecting notebook\n",
            "  Downloading notebook-7.2.2-py3-none-any.whl.metadata (10 kB)\n",
            "Collecting python-dateutil>=2.8.2 (from pandas)\n",
            "  Downloading python_dateutil-2.9.0.post0-py2.py3-none-any.whl.metadata (8.4 kB)\n",
            "Collecting pytz>=2020.1 (from pandas)\n",
            "  Downloading pytz-2024.2-py2.py3-none-any.whl.metadata (22 kB)\n",
            "Collecting tzdata>=2022.7 (from pandas)\n",
            "  Downloading tzdata-2024.2-py2.py3-none-any.whl.metadata (1.4 kB)\n",
            "Collecting contourpy>=1.0.1 (from matplotlib)\n",
            "  Downloading contourpy-1.3.1-cp310-cp310-manylinux_2_17_x86_64.manylinux2014_x86_64.whl.metadata (5.4 kB)\n",
            "Collecting cycler>=0.10 (from matplotlib)\n",
            "  Downloading cycler-0.12.1-py3-none-any.whl.metadata (3.8 kB)\n",
            "Collecting fonttools>=4.22.0 (from matplotlib)\n",
            "  Downloading fonttools-4.55.0-cp310-cp310-manylinux_2_17_x86_64.manylinux2014_x86_64.whl.metadata (164 kB)\n",
            "Collecting kiwisolver>=1.3.1 (from matplotlib)\n",
            "  Downloading kiwisolver-1.4.7-cp310-cp310-manylinux_2_12_x86_64.manylinux2010_x86_64.whl.metadata (6.3 kB)\n",
            "Collecting packaging>=20.0 (from matplotlib)\n",
            "  Downloading packaging-24.2-py3-none-any.whl.metadata (3.2 kB)\n",
            "Collecting pillow>=8 (from matplotlib)\n",
            "  Downloading pillow-11.0.0-cp310-cp310-manylinux_2_28_x86_64.whl.metadata (9.1 kB)\n",
            "Collecting pyparsing>=2.3.1 (from matplotlib)\n",
            "  Downloading pyparsing-3.2.0-py3-none-any.whl.metadata (5.0 kB)\n",
            "Collecting scipy>=1.6.0 (from scikit-learn)\n",
            "  Downloading scipy-1.14.1-cp310-cp310-manylinux_2_17_x86_64.manylinux2014_x86_64.whl.metadata (60 kB)\n",
            "Collecting joblib>=1.2.0 (from scikit-learn)\n",
            "  Downloading joblib-1.4.2-py3-none-any.whl.metadata (5.4 kB)\n",
            "Collecting threadpoolctl>=3.1.0 (from scikit-learn)\n",
            "  Downloading threadpoolctl-3.5.0-py3-none-any.whl.metadata (13 kB)\n",
            "Collecting absl-py>=1.0.0 (from tensorflow)\n",
            "  Downloading absl_py-2.1.0-py3-none-any.whl.metadata (2.3 kB)\n",
            "Collecting astunparse>=1.6.0 (from tensorflow)\n",
            "  Downloading astunparse-1.6.3-py2.py3-none-any.whl.metadata (4.4 kB)\n",
            "Collecting flatbuffers>=24.3.25 (from tensorflow)\n",
            "  Downloading flatbuffers-24.3.25-py2.py3-none-any.whl.metadata (850 bytes)\n",
            "Collecting gast!=0.5.0,!=0.5.1,!=0.5.2,>=0.2.1 (from tensorflow)\n",
            "  Downloading gast-0.6.0-py3-none-any.whl.metadata (1.3 kB)\n",
            "Collecting google-pasta>=0.1.1 (from tensorflow)\n",
            "  Downloading google_pasta-0.2.0-py3-none-any.whl.metadata (814 bytes)\n",
            "Collecting libclang>=13.0.0 (from tensorflow)\n",
            "  Downloading libclang-18.1.1-py2.py3-none-manylinux2010_x86_64.whl.metadata (5.2 kB)\n",
            "Collecting opt-einsum>=2.3.2 (from tensorflow)\n",
            "  Downloading opt_einsum-3.4.0-py3-none-any.whl.metadata (6.3 kB)\n",
            "Collecting protobuf!=4.21.0,!=4.21.1,!=4.21.2,!=4.21.3,!=4.21.4,!=4.21.5,<6.0.0dev,>=3.20.3 (from tensorflow)\n",
            "  Downloading protobuf-5.29.0-cp38-abi3-manylinux2014_x86_64.whl.metadata (592 bytes)\n",
            "Collecting requests<3,>=2.21.0 (from tensorflow)\n",
            "  Downloading requests-2.32.3-py3-none-any.whl.metadata (4.6 kB)\n",
            "Requirement already satisfied: setuptools in ./ambienteVirtual/lib/python3.10/site-packages (from tensorflow) (75.6.0)\n",
            "Collecting six>=1.12.0 (from tensorflow)\n",
            "  Downloading six-1.16.0-py2.py3-none-any.whl.metadata (1.8 kB)\n",
            "Collecting termcolor>=1.1.0 (from tensorflow)\n",
            "  Downloading termcolor-2.5.0-py3-none-any.whl.metadata (6.1 kB)\n",
            "Collecting typing-extensions>=3.6.6 (from tensorflow)\n",
            "  Downloading typing_extensions-4.12.2-py3-none-any.whl.metadata (3.0 kB)\n",
            "Collecting wrapt>=1.11.0 (from tensorflow)\n",
            "  Downloading wrapt-1.17.0-cp310-cp310-manylinux_2_5_x86_64.manylinux1_x86_64.manylinux_2_17_x86_64.manylinux2014_x86_64.whl.metadata (6.4 kB)\n",
            "Collecting grpcio<2.0,>=1.24.3 (from tensorflow)\n",
            "  Downloading grpcio-1.68.1-cp310-cp310-manylinux_2_17_x86_64.manylinux2014_x86_64.whl.metadata (3.9 kB)\n",
            "Collecting tensorboard<2.19,>=2.18 (from tensorflow)\n",
            "  Downloading tensorboard-2.18.0-py3-none-any.whl.metadata (1.6 kB)\n",
            "Collecting numpy\n",
            "  Downloading numpy-2.0.2-cp310-cp310-manylinux_2_17_x86_64.manylinux2014_x86_64.whl.metadata (60 kB)\n",
            "Collecting h5py>=3.11.0 (from tensorflow)\n",
            "  Downloading h5py-3.12.1-cp310-cp310-manylinux_2_17_x86_64.manylinux2014_x86_64.whl.metadata (2.5 kB)\n",
            "Collecting ml-dtypes<0.5.0,>=0.4.0 (from tensorflow)\n",
            "  Downloading ml_dtypes-0.4.1-cp310-cp310-manylinux_2_17_x86_64.manylinux2014_x86_64.whl.metadata (20 kB)\n",
            "Collecting tensorflow-io-gcs-filesystem>=0.23.1 (from tensorflow)\n",
            "  Downloading tensorflow_io_gcs_filesystem-0.37.1-cp310-cp310-manylinux_2_17_x86_64.manylinux2014_x86_64.whl.metadata (14 kB)\n",
            "Collecting rich (from keras)\n",
            "  Downloading rich-13.9.4-py3-none-any.whl.metadata (18 kB)\n",
            "Collecting namex (from keras)\n",
            "  Downloading namex-0.0.8-py3-none-any.whl.metadata (246 bytes)\n",
            "Collecting optree (from keras)\n",
            "  Downloading optree-0.13.1-cp310-cp310-manylinux_2_17_x86_64.manylinux2014_x86_64.whl.metadata (47 kB)\n",
            "Collecting filelock (from torch)\n",
            "  Downloading filelock-3.16.1-py3-none-any.whl.metadata (2.9 kB)\n",
            "Collecting networkx (from torch)\n",
            "  Downloading networkx-3.4.2-py3-none-any.whl.metadata (6.3 kB)\n",
            "Collecting jinja2 (from torch)\n",
            "  Downloading jinja2-3.1.4-py3-none-any.whl.metadata (2.6 kB)\n",
            "Collecting fsspec (from torch)\n",
            "  Downloading fsspec-2024.10.0-py3-none-any.whl.metadata (11 kB)\n",
            "Collecting nvidia-cuda-nvrtc-cu12==12.4.127 (from torch)\n",
            "  Downloading nvidia_cuda_nvrtc_cu12-12.4.127-py3-none-manylinux2014_x86_64.whl.metadata (1.5 kB)\n",
            "Collecting nvidia-cuda-runtime-cu12==12.4.127 (from torch)\n",
            "  Downloading nvidia_cuda_runtime_cu12-12.4.127-py3-none-manylinux2014_x86_64.whl.metadata (1.5 kB)\n",
            "Collecting nvidia-cuda-cupti-cu12==12.4.127 (from torch)\n",
            "  Downloading nvidia_cuda_cupti_cu12-12.4.127-py3-none-manylinux2014_x86_64.whl.metadata (1.6 kB)\n",
            "Collecting nvidia-cudnn-cu12==9.1.0.70 (from torch)\n",
            "  Downloading nvidia_cudnn_cu12-9.1.0.70-py3-none-manylinux2014_x86_64.whl.metadata (1.6 kB)\n",
            "Collecting nvidia-cublas-cu12==12.4.5.8 (from torch)\n",
            "  Downloading nvidia_cublas_cu12-12.4.5.8-py3-none-manylinux2014_x86_64.whl.metadata (1.5 kB)\n",
            "Collecting nvidia-cufft-cu12==11.2.1.3 (from torch)\n",
            "  Downloading nvidia_cufft_cu12-11.2.1.3-py3-none-manylinux2014_x86_64.whl.metadata (1.5 kB)\n",
            "Collecting nvidia-curand-cu12==10.3.5.147 (from torch)\n",
            "  Downloading nvidia_curand_cu12-10.3.5.147-py3-none-manylinux2014_x86_64.whl.metadata (1.5 kB)\n",
            "Collecting nvidia-cusolver-cu12==11.6.1.9 (from torch)\n",
            "  Downloading nvidia_cusolver_cu12-11.6.1.9-py3-none-manylinux2014_x86_64.whl.metadata (1.6 kB)\n",
            "Collecting nvidia-cusparse-cu12==12.3.1.170 (from torch)\n",
            "  Downloading nvidia_cusparse_cu12-12.3.1.170-py3-none-manylinux2014_x86_64.whl.metadata (1.6 kB)\n",
            "Collecting nvidia-nccl-cu12==2.21.5 (from torch)\n",
            "  Downloading nvidia_nccl_cu12-2.21.5-py3-none-manylinux2014_x86_64.whl.metadata (1.8 kB)\n",
            "Collecting nvidia-nvtx-cu12==12.4.127 (from torch)\n",
            "  Downloading nvidia_nvtx_cu12-12.4.127-py3-none-manylinux2014_x86_64.whl.metadata (1.7 kB)\n",
            "Collecting nvidia-nvjitlink-cu12==12.4.127 (from torch)\n",
            "  Downloading nvidia_nvjitlink_cu12-12.4.127-py3-none-manylinux2014_x86_64.whl.metadata (1.5 kB)\n",
            "Collecting triton==3.1.0 (from torch)\n",
            "  Downloading triton-3.1.0-cp310-cp310-manylinux_2_17_x86_64.manylinux2014_x86_64.whl.metadata (1.3 kB)\n",
            "Collecting sympy==1.13.1 (from torch)\n",
            "  Downloading sympy-1.13.1-py3-none-any.whl.metadata (12 kB)\n",
            "Collecting mpmath<1.4,>=1.1.0 (from sympy==1.13.1->torch)\n",
            "  Downloading mpmath-1.3.0-py3-none-any.whl.metadata (8.6 kB)\n",
            "Collecting jupyter-server<3,>=2.4.0 (from notebook)\n",
            "  Downloading jupyter_server-2.14.2-py3-none-any.whl.metadata (8.4 kB)\n",
            "Collecting jupyterlab-server<3,>=2.27.1 (from notebook)\n",
            "  Downloading jupyterlab_server-2.27.3-py3-none-any.whl.metadata (5.9 kB)\n",
            "Collecting jupyterlab<4.3,>=4.2.0 (from notebook)\n",
            "  Downloading jupyterlab-4.2.6-py3-none-any.whl.metadata (16 kB)\n",
            "Collecting notebook-shim<0.3,>=0.2 (from notebook)\n",
            "  Downloading notebook_shim-0.2.4-py3-none-any.whl.metadata (4.0 kB)\n",
            "Collecting tornado>=6.2.0 (from notebook)\n",
            "  Downloading tornado-6.4.2-cp38-abi3-manylinux_2_5_x86_64.manylinux1_x86_64.manylinux_2_17_x86_64.manylinux2014_x86_64.whl.metadata (2.5 kB)\n",
            "Requirement already satisfied: wheel<1.0,>=0.23.0 in ./ambienteVirtual/lib/python3.10/site-packages (from astunparse>=1.6.0->tensorflow) (0.45.1)\n",
            "Collecting anyio>=3.1.0 (from jupyter-server<3,>=2.4.0->notebook)\n",
            "  Downloading anyio-4.6.2.post1-py3-none-any.whl.metadata (4.7 kB)\n",
            "Collecting argon2-cffi>=21.1 (from jupyter-server<3,>=2.4.0->notebook)\n",
            "  Downloading argon2_cffi-23.1.0-py3-none-any.whl.metadata (5.2 kB)\n",
            "Collecting jupyter-client>=7.4.4 (from jupyter-server<3,>=2.4.0->notebook)\n",
            "  Downloading jupyter_client-8.6.3-py3-none-any.whl.metadata (8.3 kB)\n",
            "Collecting jupyter-core!=5.0.*,>=4.12 (from jupyter-server<3,>=2.4.0->notebook)\n",
            "  Downloading jupyter_core-5.7.2-py3-none-any.whl.metadata (3.4 kB)\n",
            "Collecting jupyter-events>=0.9.0 (from jupyter-server<3,>=2.4.0->notebook)\n",
            "  Downloading jupyter_events-0.10.0-py3-none-any.whl.metadata (5.9 kB)\n",
            "Collecting jupyter-server-terminals>=0.4.4 (from jupyter-server<3,>=2.4.0->notebook)\n",
            "  Downloading jupyter_server_terminals-0.5.3-py3-none-any.whl.metadata (5.6 kB)\n",
            "Collecting nbconvert>=6.4.4 (from jupyter-server<3,>=2.4.0->notebook)\n",
            "  Downloading nbconvert-7.16.4-py3-none-any.whl.metadata (8.5 kB)\n",
            "Collecting nbformat>=5.3.0 (from jupyter-server<3,>=2.4.0->notebook)\n",
            "  Downloading nbformat-5.10.4-py3-none-any.whl.metadata (3.6 kB)\n",
            "Collecting overrides>=5.0 (from jupyter-server<3,>=2.4.0->notebook)\n",
            "  Downloading overrides-7.7.0-py3-none-any.whl.metadata (5.8 kB)\n",
            "Collecting prometheus-client>=0.9 (from jupyter-server<3,>=2.4.0->notebook)\n",
            "  Downloading prometheus_client-0.21.0-py3-none-any.whl.metadata (1.8 kB)\n",
            "Collecting pyzmq>=24 (from jupyter-server<3,>=2.4.0->notebook)\n",
            "  Downloading pyzmq-26.2.0-cp310-cp310-manylinux_2_28_x86_64.whl.metadata (6.2 kB)\n",
            "Collecting send2trash>=1.8.2 (from jupyter-server<3,>=2.4.0->notebook)\n",
            "  Downloading Send2Trash-1.8.3-py3-none-any.whl.metadata (4.0 kB)\n",
            "Collecting terminado>=0.8.3 (from jupyter-server<3,>=2.4.0->notebook)\n",
            "  Downloading terminado-0.18.1-py3-none-any.whl.metadata (5.8 kB)\n",
            "Collecting traitlets>=5.6.0 (from jupyter-server<3,>=2.4.0->notebook)\n",
            "  Downloading traitlets-5.14.3-py3-none-any.whl.metadata (10 kB)\n",
            "Collecting websocket-client>=1.7 (from jupyter-server<3,>=2.4.0->notebook)\n",
            "  Downloading websocket_client-1.8.0-py3-none-any.whl.metadata (8.0 kB)\n",
            "Collecting MarkupSafe>=2.0 (from jinja2->torch)\n",
            "  Downloading MarkupSafe-3.0.2-cp310-cp310-manylinux_2_17_x86_64.manylinux2014_x86_64.whl.metadata (4.0 kB)\n",
            "Collecting async-lru>=1.0.0 (from jupyterlab<4.3,>=4.2.0->notebook)\n",
            "  Downloading async_lru-2.0.4-py3-none-any.whl.metadata (4.5 kB)\n",
            "Collecting httpx>=0.25.0 (from jupyterlab<4.3,>=4.2.0->notebook)\n",
            "  Downloading httpx-0.28.0-py3-none-any.whl.metadata (7.1 kB)\n",
            "Collecting ipykernel>=6.5.0 (from jupyterlab<4.3,>=4.2.0->notebook)\n",
            "  Downloading ipykernel-6.29.5-py3-none-any.whl.metadata (6.3 kB)\n",
            "Collecting jupyter-lsp>=2.0.0 (from jupyterlab<4.3,>=4.2.0->notebook)\n",
            "  Downloading jupyter_lsp-2.2.5-py3-none-any.whl.metadata (1.8 kB)\n",
            "Collecting tomli>=1.2.2 (from jupyterlab<4.3,>=4.2.0->notebook)\n",
            "  Downloading tomli-2.2.1-py3-none-any.whl.metadata (10 kB)\n",
            "Collecting babel>=2.10 (from jupyterlab-server<3,>=2.27.1->notebook)\n",
            "  Downloading babel-2.16.0-py3-none-any.whl.metadata (1.5 kB)\n",
            "Collecting json5>=0.9.0 (from jupyterlab-server<3,>=2.27.1->notebook)\n",
            "  Downloading json5-0.10.0-py3-none-any.whl.metadata (34 kB)\n",
            "Collecting jsonschema>=4.18.0 (from jupyterlab-server<3,>=2.27.1->notebook)\n",
            "  Downloading jsonschema-4.23.0-py3-none-any.whl.metadata (7.9 kB)\n",
            "Collecting charset-normalizer<4,>=2 (from requests<3,>=2.21.0->tensorflow)\n",
            "  Downloading charset_normalizer-3.4.0-cp310-cp310-manylinux_2_17_x86_64.manylinux2014_x86_64.whl.metadata (34 kB)\n",
            "Collecting idna<4,>=2.5 (from requests<3,>=2.21.0->tensorflow)\n",
            "  Downloading idna-3.10-py3-none-any.whl.metadata (10 kB)\n",
            "Collecting urllib3<3,>=1.21.1 (from requests<3,>=2.21.0->tensorflow)\n",
            "  Downloading urllib3-2.2.3-py3-none-any.whl.metadata (6.5 kB)\n",
            "Collecting certifi>=2017.4.17 (from requests<3,>=2.21.0->tensorflow)\n",
            "  Downloading certifi-2024.8.30-py3-none-any.whl.metadata (2.2 kB)\n",
            "Collecting markdown>=2.6.8 (from tensorboard<2.19,>=2.18->tensorflow)\n",
            "  Downloading Markdown-3.7-py3-none-any.whl.metadata (7.0 kB)\n",
            "Collecting tensorboard-data-server<0.8.0,>=0.7.0 (from tensorboard<2.19,>=2.18->tensorflow)\n",
            "  Downloading tensorboard_data_server-0.7.2-py3-none-manylinux_2_31_x86_64.whl.metadata (1.1 kB)\n",
            "Collecting werkzeug>=1.0.1 (from tensorboard<2.19,>=2.18->tensorflow)\n",
            "  Downloading werkzeug-3.1.3-py3-none-any.whl.metadata (3.7 kB)\n",
            "Collecting markdown-it-py>=2.2.0 (from rich->keras)\n",
            "  Downloading markdown_it_py-3.0.0-py3-none-any.whl.metadata (6.9 kB)\n",
            "Collecting pygments<3.0.0,>=2.13.0 (from rich->keras)\n",
            "  Downloading pygments-2.18.0-py3-none-any.whl.metadata (2.5 kB)\n",
            "Collecting sniffio>=1.1 (from anyio>=3.1.0->jupyter-server<3,>=2.4.0->notebook)\n",
            "  Downloading sniffio-1.3.1-py3-none-any.whl.metadata (3.9 kB)\n",
            "Collecting exceptiongroup>=1.0.2 (from anyio>=3.1.0->jupyter-server<3,>=2.4.0->notebook)\n",
            "  Downloading exceptiongroup-1.2.2-py3-none-any.whl.metadata (6.6 kB)\n",
            "Collecting argon2-cffi-bindings (from argon2-cffi>=21.1->jupyter-server<3,>=2.4.0->notebook)\n",
            "  Downloading argon2_cffi_bindings-21.2.0-cp36-abi3-manylinux_2_17_x86_64.manylinux2014_x86_64.whl.metadata (6.7 kB)\n",
            "Collecting httpcore==1.* (from httpx>=0.25.0->jupyterlab<4.3,>=4.2.0->notebook)\n",
            "  Downloading httpcore-1.0.7-py3-none-any.whl.metadata (21 kB)\n",
            "Collecting h11<0.15,>=0.13 (from httpcore==1.*->httpx>=0.25.0->jupyterlab<4.3,>=4.2.0->notebook)\n",
            "  Downloading h11-0.14.0-py3-none-any.whl.metadata (8.2 kB)\n",
            "Collecting comm>=0.1.1 (from ipykernel>=6.5.0->jupyterlab<4.3,>=4.2.0->notebook)\n",
            "  Downloading comm-0.2.2-py3-none-any.whl.metadata (3.7 kB)\n",
            "Collecting debugpy>=1.6.5 (from ipykernel>=6.5.0->jupyterlab<4.3,>=4.2.0->notebook)\n",
            "  Downloading debugpy-1.8.9-cp310-cp310-manylinux_2_5_x86_64.manylinux1_x86_64.manylinux_2_17_x86_64.manylinux2014_x86_64.whl.metadata (1.1 kB)\n",
            "Collecting ipython>=7.23.1 (from ipykernel>=6.5.0->jupyterlab<4.3,>=4.2.0->notebook)\n",
            "  Downloading ipython-8.30.0-py3-none-any.whl.metadata (4.9 kB)\n",
            "Collecting matplotlib-inline>=0.1 (from ipykernel>=6.5.0->jupyterlab<4.3,>=4.2.0->notebook)\n",
            "  Downloading matplotlib_inline-0.1.7-py3-none-any.whl.metadata (3.9 kB)\n",
            "Collecting nest-asyncio (from ipykernel>=6.5.0->jupyterlab<4.3,>=4.2.0->notebook)\n",
            "  Downloading nest_asyncio-1.6.0-py3-none-any.whl.metadata (2.8 kB)\n",
            "Collecting psutil (from ipykernel>=6.5.0->jupyterlab<4.3,>=4.2.0->notebook)\n",
            "  Downloading psutil-6.1.0-cp36-abi3-manylinux_2_12_x86_64.manylinux2010_x86_64.manylinux_2_17_x86_64.manylinux2014_x86_64.whl.metadata (22 kB)\n",
            "Collecting attrs>=22.2.0 (from jsonschema>=4.18.0->jupyterlab-server<3,>=2.27.1->notebook)\n",
            "  Downloading attrs-24.2.0-py3-none-any.whl.metadata (11 kB)\n",
            "Collecting jsonschema-specifications>=2023.03.6 (from jsonschema>=4.18.0->jupyterlab-server<3,>=2.27.1->notebook)\n",
            "  Downloading jsonschema_specifications-2024.10.1-py3-none-any.whl.metadata (3.0 kB)\n",
            "Collecting referencing>=0.28.4 (from jsonschema>=4.18.0->jupyterlab-server<3,>=2.27.1->notebook)\n",
            "  Downloading referencing-0.35.1-py3-none-any.whl.metadata (2.8 kB)\n",
            "Collecting rpds-py>=0.7.1 (from jsonschema>=4.18.0->jupyterlab-server<3,>=2.27.1->notebook)\n",
            "  Downloading rpds_py-0.21.0-cp310-cp310-manylinux_2_17_x86_64.manylinux2014_x86_64.whl.metadata (4.2 kB)\n",
            "Collecting platformdirs>=2.5 (from jupyter-core!=5.0.*,>=4.12->jupyter-server<3,>=2.4.0->notebook)\n",
            "  Downloading platformdirs-4.3.6-py3-none-any.whl.metadata (11 kB)\n",
            "Collecting python-json-logger>=2.0.4 (from jupyter-events>=0.9.0->jupyter-server<3,>=2.4.0->notebook)\n",
            "  Downloading python_json_logger-2.0.7-py3-none-any.whl.metadata (6.5 kB)\n",
            "Collecting pyyaml>=5.3 (from jupyter-events>=0.9.0->jupyter-server<3,>=2.4.0->notebook)\n",
            "  Downloading PyYAML-6.0.2-cp310-cp310-manylinux_2_17_x86_64.manylinux2014_x86_64.whl.metadata (2.1 kB)\n",
            "Collecting rfc3339-validator (from jupyter-events>=0.9.0->jupyter-server<3,>=2.4.0->notebook)\n",
            "  Downloading rfc3339_validator-0.1.4-py2.py3-none-any.whl.metadata (1.5 kB)\n",
            "Collecting rfc3986-validator>=0.1.1 (from jupyter-events>=0.9.0->jupyter-server<3,>=2.4.0->notebook)\n",
            "  Downloading rfc3986_validator-0.1.1-py2.py3-none-any.whl.metadata (1.7 kB)\n",
            "Collecting mdurl~=0.1 (from markdown-it-py>=2.2.0->rich->keras)\n",
            "  Downloading mdurl-0.1.2-py3-none-any.whl.metadata (1.6 kB)\n",
            "Collecting beautifulsoup4 (from nbconvert>=6.4.4->jupyter-server<3,>=2.4.0->notebook)\n",
            "  Downloading beautifulsoup4-4.12.3-py3-none-any.whl.metadata (3.8 kB)\n",
            "Collecting bleach!=5.0.0 (from nbconvert>=6.4.4->jupyter-server<3,>=2.4.0->notebook)\n",
            "  Downloading bleach-6.2.0-py3-none-any.whl.metadata (30 kB)\n",
            "Collecting defusedxml (from nbconvert>=6.4.4->jupyter-server<3,>=2.4.0->notebook)\n",
            "  Downloading defusedxml-0.7.1-py2.py3-none-any.whl.metadata (32 kB)\n",
            "Collecting jupyterlab-pygments (from nbconvert>=6.4.4->jupyter-server<3,>=2.4.0->notebook)\n",
            "  Downloading jupyterlab_pygments-0.3.0-py3-none-any.whl.metadata (4.4 kB)\n",
            "Collecting mistune<4,>=2.0.3 (from nbconvert>=6.4.4->jupyter-server<3,>=2.4.0->notebook)\n",
            "  Downloading mistune-3.0.2-py3-none-any.whl.metadata (1.7 kB)\n",
            "Collecting nbclient>=0.5.0 (from nbconvert>=6.4.4->jupyter-server<3,>=2.4.0->notebook)\n",
            "  Downloading nbclient-0.10.1-py3-none-any.whl.metadata (8.2 kB)\n",
            "Collecting pandocfilters>=1.4.1 (from nbconvert>=6.4.4->jupyter-server<3,>=2.4.0->notebook)\n",
            "  Downloading pandocfilters-1.5.1-py2.py3-none-any.whl.metadata (9.0 kB)\n",
            "Collecting tinycss2 (from nbconvert>=6.4.4->jupyter-server<3,>=2.4.0->notebook)\n",
            "  Downloading tinycss2-1.4.0-py3-none-any.whl.metadata (3.0 kB)\n",
            "Collecting fastjsonschema>=2.15 (from nbformat>=5.3.0->jupyter-server<3,>=2.4.0->notebook)\n",
            "  Downloading fastjsonschema-2.21.1-py3-none-any.whl.metadata (2.2 kB)\n",
            "Collecting ptyprocess (from terminado>=0.8.3->jupyter-server<3,>=2.4.0->notebook)\n",
            "  Downloading ptyprocess-0.7.0-py2.py3-none-any.whl.metadata (1.3 kB)\n",
            "Collecting webencodings (from bleach!=5.0.0->nbconvert>=6.4.4->jupyter-server<3,>=2.4.0->notebook)\n",
            "  Downloading webencodings-0.5.1-py2.py3-none-any.whl.metadata (2.1 kB)\n",
            "Collecting decorator (from ipython>=7.23.1->ipykernel>=6.5.0->jupyterlab<4.3,>=4.2.0->notebook)\n",
            "  Downloading decorator-5.1.1-py3-none-any.whl.metadata (4.0 kB)\n",
            "Collecting jedi>=0.16 (from ipython>=7.23.1->ipykernel>=6.5.0->jupyterlab<4.3,>=4.2.0->notebook)\n",
            "  Downloading jedi-0.19.2-py2.py3-none-any.whl.metadata (22 kB)\n",
            "Collecting pexpect>4.3 (from ipython>=7.23.1->ipykernel>=6.5.0->jupyterlab<4.3,>=4.2.0->notebook)\n",
            "  Downloading pexpect-4.9.0-py2.py3-none-any.whl.metadata (2.5 kB)\n",
            "Collecting prompt_toolkit<3.1.0,>=3.0.41 (from ipython>=7.23.1->ipykernel>=6.5.0->jupyterlab<4.3,>=4.2.0->notebook)\n",
            "  Downloading prompt_toolkit-3.0.48-py3-none-any.whl.metadata (6.4 kB)\n",
            "Collecting stack_data (from ipython>=7.23.1->ipykernel>=6.5.0->jupyterlab<4.3,>=4.2.0->notebook)\n",
            "  Downloading stack_data-0.6.3-py3-none-any.whl.metadata (18 kB)\n",
            "Collecting fqdn (from jsonschema[format-nongpl]>=4.18.0->jupyter-events>=0.9.0->jupyter-server<3,>=2.4.0->notebook)\n",
            "  Downloading fqdn-1.5.1-py3-none-any.whl.metadata (1.4 kB)\n",
            "Collecting isoduration (from jsonschema[format-nongpl]>=4.18.0->jupyter-events>=0.9.0->jupyter-server<3,>=2.4.0->notebook)\n",
            "  Downloading isoduration-20.11.0-py3-none-any.whl.metadata (5.7 kB)\n",
            "Collecting jsonpointer>1.13 (from jsonschema[format-nongpl]>=4.18.0->jupyter-events>=0.9.0->jupyter-server<3,>=2.4.0->notebook)\n",
            "  Downloading jsonpointer-3.0.0-py2.py3-none-any.whl.metadata (2.3 kB)\n",
            "Collecting uri-template (from jsonschema[format-nongpl]>=4.18.0->jupyter-events>=0.9.0->jupyter-server<3,>=2.4.0->notebook)\n",
            "  Downloading uri_template-1.3.0-py3-none-any.whl.metadata (8.8 kB)\n",
            "Collecting webcolors>=24.6.0 (from jsonschema[format-nongpl]>=4.18.0->jupyter-events>=0.9.0->jupyter-server<3,>=2.4.0->notebook)\n",
            "  Downloading webcolors-24.11.1-py3-none-any.whl.metadata (2.2 kB)\n",
            "Collecting cffi>=1.0.1 (from argon2-cffi-bindings->argon2-cffi>=21.1->jupyter-server<3,>=2.4.0->notebook)\n",
            "  Downloading cffi-1.17.1-cp310-cp310-manylinux_2_17_x86_64.manylinux2014_x86_64.whl.metadata (1.5 kB)\n",
            "Collecting soupsieve>1.2 (from beautifulsoup4->nbconvert>=6.4.4->jupyter-server<3,>=2.4.0->notebook)\n",
            "  Downloading soupsieve-2.6-py3-none-any.whl.metadata (4.6 kB)\n",
            "Collecting pycparser (from cffi>=1.0.1->argon2-cffi-bindings->argon2-cffi>=21.1->jupyter-server<3,>=2.4.0->notebook)\n",
            "  Downloading pycparser-2.22-py3-none-any.whl.metadata (943 bytes)\n",
            "Collecting parso<0.9.0,>=0.8.4 (from jedi>=0.16->ipython>=7.23.1->ipykernel>=6.5.0->jupyterlab<4.3,>=4.2.0->notebook)\n",
            "  Downloading parso-0.8.4-py2.py3-none-any.whl.metadata (7.7 kB)\n",
            "Collecting wcwidth (from prompt_toolkit<3.1.0,>=3.0.41->ipython>=7.23.1->ipykernel>=6.5.0->jupyterlab<4.3,>=4.2.0->notebook)\n",
            "  Downloading wcwidth-0.2.13-py2.py3-none-any.whl.metadata (14 kB)\n",
            "Collecting arrow>=0.15.0 (from isoduration->jsonschema[format-nongpl]>=4.18.0->jupyter-events>=0.9.0->jupyter-server<3,>=2.4.0->notebook)\n",
            "  Downloading arrow-1.3.0-py3-none-any.whl.metadata (7.5 kB)\n",
            "Collecting executing>=1.2.0 (from stack_data->ipython>=7.23.1->ipykernel>=6.5.0->jupyterlab<4.3,>=4.2.0->notebook)\n",
            "  Downloading executing-2.1.0-py2.py3-none-any.whl.metadata (8.9 kB)\n",
            "Collecting asttokens>=2.1.0 (from stack_data->ipython>=7.23.1->ipykernel>=6.5.0->jupyterlab<4.3,>=4.2.0->notebook)\n",
            "  Downloading asttokens-3.0.0-py3-none-any.whl.metadata (4.7 kB)\n",
            "Collecting pure-eval (from stack_data->ipython>=7.23.1->ipykernel>=6.5.0->jupyterlab<4.3,>=4.2.0->notebook)\n",
            "  Downloading pure_eval-0.2.3-py3-none-any.whl.metadata (6.3 kB)\n",
            "Collecting types-python-dateutil>=2.8.10 (from arrow>=0.15.0->isoduration->jsonschema[format-nongpl]>=4.18.0->jupyter-events>=0.9.0->jupyter-server<3,>=2.4.0->notebook)\n",
            "  Downloading types_python_dateutil-2.9.0.20241003-py3-none-any.whl.metadata (1.9 kB)\n",
            "Downloading pandas-2.2.3-cp310-cp310-manylinux_2_17_x86_64.manylinux2014_x86_64.whl (13.1 MB)\n",
            "\u001b[2K   \u001b[90m━━━━━━━━━━━━━━━━━━━━━━━━━━━━━━━━━━━━━━━━\u001b[0m \u001b[32m13.1/13.1 MB\u001b[0m \u001b[31m102.5 MB/s\u001b[0m eta \u001b[36m0:00:00\u001b[0m\n",
            "\u001b[?25hDownloading matplotlib-3.9.3-cp310-cp310-manylinux_2_17_x86_64.manylinux2014_x86_64.whl (8.3 MB)\n",
            "\u001b[2K   \u001b[90m━━━━━━━━━━━━━━━━━━━━━━━━━━━━━━━━━━━━━━━━\u001b[0m \u001b[32m8.3/8.3 MB\u001b[0m \u001b[31m111.4 MB/s\u001b[0m eta \u001b[36m0:00:00\u001b[0m\n",
            "\u001b[?25hDownloading seaborn-0.13.2-py3-none-any.whl (294 kB)\n",
            "Downloading scikit_learn-1.5.2-cp310-cp310-manylinux_2_17_x86_64.manylinux2014_x86_64.whl (13.3 MB)\n",
            "\u001b[2K   \u001b[90m━━━━━━━━━━━━━━━━━━━━━━━━━━━━━━━━━━━━━━━━\u001b[0m \u001b[32m13.3/13.3 MB\u001b[0m \u001b[31m107.6 MB/s\u001b[0m eta \u001b[36m0:00:00\u001b[0m\n",
            "\u001b[?25hDownloading tensorflow-2.18.0-cp310-cp310-manylinux_2_17_x86_64.manylinux2014_x86_64.whl (615.3 MB)\n",
            "\u001b[2K   \u001b[90m━━━━━━━━━━━━━━━━━━━━━━━━━━━━━━━━━━━━━━━━\u001b[0m \u001b[32m615.3/615.3 MB\u001b[0m \u001b[31m31.9 MB/s\u001b[0m eta \u001b[36m0:00:00\u001b[0m\n",
            "\u001b[?25hDownloading numpy-2.0.2-cp310-cp310-manylinux_2_17_x86_64.manylinux2014_x86_64.whl (19.5 MB)\n",
            "\u001b[2K   \u001b[90m━━━━━━━━━━━━━━━━━━━━━━━━━━━━━━━━━━━━━━━━\u001b[0m \u001b[32m19.5/19.5 MB\u001b[0m \u001b[31m142.2 MB/s\u001b[0m eta \u001b[36m0:00:00\u001b[0m\n",
            "\u001b[?25hDownloading keras-3.7.0-py3-none-any.whl (1.2 MB)\n",
            "\u001b[2K   \u001b[90m━━━━━━━━━━━━━━━━━━━━━━━━━━━━━━━━━━━━━━━━\u001b[0m \u001b[32m1.2/1.2 MB\u001b[0m \u001b[31m48.3 MB/s\u001b[0m eta \u001b[36m0:00:00\u001b[0m\n",
            "\u001b[?25hDownloading torch-2.5.1-cp310-cp310-manylinux1_x86_64.whl (906.4 MB)\n",
            "\u001b[2K   \u001b[90m━━━━━━━━━━━━━━━━━━━━━━━━━━━━━━━━━━━━━━━━\u001b[0m \u001b[32m906.4/906.4 MB\u001b[0m \u001b[31m23.5 MB/s\u001b[0m eta \u001b[36m0:00:00\u001b[0m\n",
            "\u001b[?25hDownloading nvidia_cublas_cu12-12.4.5.8-py3-none-manylinux2014_x86_64.whl (363.4 MB)\n",
            "\u001b[2K   \u001b[90m━━━━━━━━━━━━━━━━━━━━━━━━━━━━━━━━━━━━━━━━\u001b[0m \u001b[32m363.4/363.4 MB\u001b[0m \u001b[31m59.5 MB/s\u001b[0m eta \u001b[36m0:00:00\u001b[0m\n",
            "\u001b[?25hDownloading nvidia_cuda_cupti_cu12-12.4.127-py3-none-manylinux2014_x86_64.whl (13.8 MB)\n",
            "\u001b[2K   \u001b[90m━━━━━━━━━━━━━━━━━━━━━━━━━━━━━━━━━━━━━━━━\u001b[0m \u001b[32m13.8/13.8 MB\u001b[0m \u001b[31m120.0 MB/s\u001b[0m eta \u001b[36m0:00:00\u001b[0m\n",
            "\u001b[?25hDownloading nvidia_cuda_nvrtc_cu12-12.4.127-py3-none-manylinux2014_x86_64.whl (24.6 MB)\n",
            "\u001b[2K   \u001b[90m━━━━━━━━━━━━━━━━━━━━━━━━━━━━━━━━━━━━━━━━\u001b[0m \u001b[32m24.6/24.6 MB\u001b[0m \u001b[31m107.6 MB/s\u001b[0m eta \u001b[36m0:00:00\u001b[0m\n",
            "\u001b[?25hDownloading nvidia_cuda_runtime_cu12-12.4.127-py3-none-manylinux2014_x86_64.whl (883 kB)\n",
            "\u001b[2K   \u001b[90m━━━━━━━━━━━━━━━━━━━━━━━━━━━━━━━━━━━━━━━━\u001b[0m \u001b[32m883.7/883.7 kB\u001b[0m \u001b[31m33.4 MB/s\u001b[0m eta \u001b[36m0:00:00\u001b[0m\n",
            "\u001b[?25hDownloading nvidia_cudnn_cu12-9.1.0.70-py3-none-manylinux2014_x86_64.whl (664.8 MB)\n",
            "\u001b[2K   \u001b[90m━━━━━━━━━━━━━━━━━━━━━━━━━━━━━━━━━━━━━━━━\u001b[0m \u001b[32m664.8/664.8 MB\u001b[0m \u001b[31m26.6 MB/s\u001b[0m eta \u001b[36m0:00:00\u001b[0m\n",
            "\u001b[?25hDownloading nvidia_cufft_cu12-11.2.1.3-py3-none-manylinux2014_x86_64.whl (211.5 MB)\n",
            "\u001b[2K   \u001b[90m━━━━━━━━━━━━━━━━━━━━━━━━━━━━━━━━━━━━━━━━\u001b[0m \u001b[32m211.5/211.5 MB\u001b[0m \u001b[31m28.7 MB/s\u001b[0m eta \u001b[36m0:00:00\u001b[0m\n",
            "\u001b[?25hDownloading nvidia_curand_cu12-10.3.5.147-py3-none-manylinux2014_x86_64.whl (56.3 MB)\n",
            "\u001b[2K   \u001b[90m━━━━━━━━━━━━━━━━━━━━━━━━━━━━━━━━━━━━━━━━\u001b[0m \u001b[32m56.3/56.3 MB\u001b[0m \u001b[31m73.5 MB/s\u001b[0m eta \u001b[36m0:00:00\u001b[0m\n",
            "\u001b[?25hDownloading nvidia_cusolver_cu12-11.6.1.9-py3-none-manylinux2014_x86_64.whl (127.9 MB)\n",
            "\u001b[2K   \u001b[90m━━━━━━━━━━━━━━━━━━━━━━━━━━━━━━━━━━━━━━━━\u001b[0m \u001b[32m127.9/127.9 MB\u001b[0m \u001b[31m43.4 MB/s\u001b[0m eta \u001b[36m0:00:00\u001b[0m\n",
            "\u001b[?25hDownloading nvidia_cusparse_cu12-12.3.1.170-py3-none-manylinux2014_x86_64.whl (207.5 MB)\n",
            "\u001b[2K   \u001b[90m━━━━━━━━━━━━━━━━━━━━━━━━━━━━━━━━━━━━━━━━\u001b[0m \u001b[32m207.5/207.5 MB\u001b[0m \u001b[31m71.3 MB/s\u001b[0m eta \u001b[36m0:00:00\u001b[0m\n",
            "\u001b[?25hDownloading nvidia_nccl_cu12-2.21.5-py3-none-manylinux2014_x86_64.whl (188.7 MB)\n",
            "\u001b[2K   \u001b[90m━━━━━━━━━━━━━━━━━━━━━━━━━━━━━━━━━━━━━━━━\u001b[0m \u001b[32m188.7/188.7 MB\u001b[0m \u001b[31m68.6 MB/s\u001b[0m eta \u001b[36m0:00:00\u001b[0m\n",
            "\u001b[?25hDownloading nvidia_nvjitlink_cu12-12.4.127-py3-none-manylinux2014_x86_64.whl (21.1 MB)\n",
            "\u001b[2K   \u001b[90m━━━━━━━━━━━━━━━━━━━━━━━━━━━━━━━━━━━━━━━━\u001b[0m \u001b[32m21.1/21.1 MB\u001b[0m \u001b[31m102.0 MB/s\u001b[0m eta \u001b[36m0:00:00\u001b[0m\n",
            "\u001b[?25hDownloading nvidia_nvtx_cu12-12.4.127-py3-none-manylinux2014_x86_64.whl (99 kB)\n",
            "Downloading sympy-1.13.1-py3-none-any.whl (6.2 MB)\n",
            "\u001b[2K   \u001b[90m━━━━━━━━━━━━━━━━━━━━━━━━━━━━━━━━━━━━━━━━\u001b[0m \u001b[32m6.2/6.2 MB\u001b[0m \u001b[31m83.6 MB/s\u001b[0m eta \u001b[36m0:00:00\u001b[0m\n",
            "\u001b[?25hDownloading triton-3.1.0-cp310-cp310-manylinux_2_17_x86_64.manylinux2014_x86_64.whl (209.5 MB)\n",
            "\u001b[2K   \u001b[90m━━━━━━━━━━━━━━━━━━━━━━━━━━━━━━━━━━━━━━━━\u001b[0m \u001b[32m209.5/209.5 MB\u001b[0m \u001b[31m44.5 MB/s\u001b[0m eta \u001b[36m0:00:00\u001b[0m\n",
            "\u001b[?25hDownloading notebook-7.2.2-py3-none-any.whl (5.0 MB)\n",
            "\u001b[2K   \u001b[90m━━━━━━━━━━━━━━━━━━━━━━━━━━━━━━━━━━━━━━━━\u001b[0m \u001b[32m5.0/5.0 MB\u001b[0m \u001b[31m37.9 MB/s\u001b[0m eta \u001b[36m0:00:00\u001b[0m\n",
            "\u001b[?25hDownloading absl_py-2.1.0-py3-none-any.whl (133 kB)\n",
            "Downloading astunparse-1.6.3-py2.py3-none-any.whl (12 kB)\n",
            "Downloading contourpy-1.3.1-cp310-cp310-manylinux_2_17_x86_64.manylinux2014_x86_64.whl (324 kB)\n",
            "Downloading cycler-0.12.1-py3-none-any.whl (8.3 kB)\n",
            "Downloading flatbuffers-24.3.25-py2.py3-none-any.whl (26 kB)\n",
            "Downloading fonttools-4.55.0-cp310-cp310-manylinux_2_17_x86_64.manylinux2014_x86_64.whl (4.6 MB)\n",
            "\u001b[2K   \u001b[90m━━━━━━━━━━━━━━━━━━━━━━━━━━━━━━━━━━━━━━━━\u001b[0m \u001b[32m4.6/4.6 MB\u001b[0m \u001b[31m48.6 MB/s\u001b[0m eta \u001b[36m0:00:00\u001b[0m\n",
            "\u001b[?25hDownloading gast-0.6.0-py3-none-any.whl (21 kB)\n",
            "Downloading google_pasta-0.2.0-py3-none-any.whl (57 kB)\n",
            "Downloading grpcio-1.68.1-cp310-cp310-manylinux_2_17_x86_64.manylinux2014_x86_64.whl (5.9 MB)\n",
            "\u001b[2K   \u001b[90m━━━━━━━━━━━━━━━━━━━━━━━━━━━━━━━━━━━━━━━━\u001b[0m \u001b[32m5.9/5.9 MB\u001b[0m \u001b[31m54.3 MB/s\u001b[0m eta \u001b[36m0:00:00\u001b[0m\n",
            "\u001b[?25hDownloading h5py-3.12.1-cp310-cp310-manylinux_2_17_x86_64.manylinux2014_x86_64.whl (5.3 MB)\n",
            "\u001b[2K   \u001b[90m━━━━━━━━━━━━━━━━━━━━━━━━━━━━━━━━━━━━━━━━\u001b[0m \u001b[32m5.3/5.3 MB\u001b[0m \u001b[31m50.1 MB/s\u001b[0m eta \u001b[36m0:00:00\u001b[0m\n",
            "\u001b[?25hDownloading joblib-1.4.2-py3-none-any.whl (301 kB)\n",
            "Downloading jupyter_server-2.14.2-py3-none-any.whl (383 kB)\n",
            "Downloading jinja2-3.1.4-py3-none-any.whl (133 kB)\n",
            "Downloading jupyterlab-4.2.6-py3-none-any.whl (11.6 MB)\n",
            "\u001b[2K   \u001b[90m━━━━━━━━━━━━━━━━━━━━━━━━━━━━━━━━━━━━━━━━\u001b[0m \u001b[32m11.6/11.6 MB\u001b[0m \u001b[31m53.8 MB/s\u001b[0m eta \u001b[36m0:00:00\u001b[0m\n",
            "\u001b[?25hDownloading jupyterlab_server-2.27.3-py3-none-any.whl (59 kB)\n",
            "Downloading kiwisolver-1.4.7-cp310-cp310-manylinux_2_12_x86_64.manylinux2010_x86_64.whl (1.6 MB)\n",
            "\u001b[2K   \u001b[90m━━━━━━━━━━━━━━━━━━━━━━━━━━━━━━━━━━━━━━━━\u001b[0m \u001b[32m1.6/1.6 MB\u001b[0m \u001b[31m47.2 MB/s\u001b[0m eta \u001b[36m0:00:00\u001b[0m\n",
            "\u001b[?25hDownloading libclang-18.1.1-py2.py3-none-manylinux2010_x86_64.whl (24.5 MB)\n",
            "\u001b[2K   \u001b[90m━━━━━━━━━━━━━━━━━━━━━━━━━━━━━━━━━━━━━━━━\u001b[0m \u001b[32m24.5/24.5 MB\u001b[0m \u001b[31m38.1 MB/s\u001b[0m eta \u001b[36m0:00:00\u001b[0m\n",
            "\u001b[?25hDownloading ml_dtypes-0.4.1-cp310-cp310-manylinux_2_17_x86_64.manylinux2014_x86_64.whl (2.2 MB)\n",
            "\u001b[2K   \u001b[90m━━━━━━━━━━━━━━━━━━━━━━━━━━━━━━━━━━━━━━━━\u001b[0m \u001b[32m2.2/2.2 MB\u001b[0m \u001b[31m59.2 MB/s\u001b[0m eta \u001b[36m0:00:00\u001b[0m\n",
            "\u001b[?25hDownloading notebook_shim-0.2.4-py3-none-any.whl (13 kB)\n",
            "Downloading opt_einsum-3.4.0-py3-none-any.whl (71 kB)\n",
            "Downloading packaging-24.2-py3-none-any.whl (65 kB)\n",
            "Downloading pillow-11.0.0-cp310-cp310-manylinux_2_28_x86_64.whl (4.4 MB)\n",
            "\u001b[2K   \u001b[90m━━━━━━━━━━━━━━━━━━━━━━━━━━━━━━━━━━━━━━━━\u001b[0m \u001b[32m4.4/4.4 MB\u001b[0m \u001b[31m47.0 MB/s\u001b[0m eta \u001b[36m0:00:00\u001b[0m\n",
            "\u001b[?25hDownloading protobuf-5.29.0-cp38-abi3-manylinux2014_x86_64.whl (319 kB)\n",
            "Downloading pyparsing-3.2.0-py3-none-any.whl (106 kB)\n",
            "Downloading python_dateutil-2.9.0.post0-py2.py3-none-any.whl (229 kB)\n",
            "Downloading pytz-2024.2-py2.py3-none-any.whl (508 kB)\n",
            "Downloading requests-2.32.3-py3-none-any.whl (64 kB)\n",
            "Downloading scipy-1.14.1-cp310-cp310-manylinux_2_17_x86_64.manylinux2014_x86_64.whl (41.2 MB)\n",
            "\u001b[2K   \u001b[90m━━━━━━━━━━━━━━━━━━━━━━━━━━━━━━━━━━━━━━━━\u001b[0m \u001b[32m41.2/41.2 MB\u001b[0m \u001b[31m33.1 MB/s\u001b[0m eta \u001b[36m0:00:00\u001b[0m\n",
            "\u001b[?25hDownloading six-1.16.0-py2.py3-none-any.whl (11 kB)\n",
            "Downloading tensorboard-2.18.0-py3-none-any.whl (5.5 MB)\n",
            "\u001b[2K   \u001b[90m━━━━━━━━━━━━━━━━━━━━━━━━━━━━━━━━━━━━━━━━\u001b[0m \u001b[32m5.5/5.5 MB\u001b[0m \u001b[31m98.3 MB/s\u001b[0m eta \u001b[36m0:00:00\u001b[0m\n",
            "\u001b[?25hDownloading tensorflow_io_gcs_filesystem-0.37.1-cp310-cp310-manylinux_2_17_x86_64.manylinux2014_x86_64.whl (5.1 MB)\n",
            "\u001b[2K   \u001b[90m━━━━━━━━━━━━━━━━━━━━━━━━━━━━━━━━━━━━━━━━\u001b[0m \u001b[32m5.1/5.1 MB\u001b[0m \u001b[31m86.3 MB/s\u001b[0m eta \u001b[36m0:00:00\u001b[0m\n",
            "\u001b[?25hDownloading termcolor-2.5.0-py3-none-any.whl (7.8 kB)\n",
            "Downloading threadpoolctl-3.5.0-py3-none-any.whl (18 kB)\n",
            "Downloading tornado-6.4.2-cp38-abi3-manylinux_2_5_x86_64.manylinux1_x86_64.manylinux_2_17_x86_64.manylinux2014_x86_64.whl (437 kB)\n",
            "Downloading typing_extensions-4.12.2-py3-none-any.whl (37 kB)\n",
            "Downloading tzdata-2024.2-py2.py3-none-any.whl (346 kB)\n",
            "Downloading wrapt-1.17.0-cp310-cp310-manylinux_2_5_x86_64.manylinux1_x86_64.manylinux_2_17_x86_64.manylinux2014_x86_64.whl (82 kB)\n",
            "Downloading filelock-3.16.1-py3-none-any.whl (16 kB)\n",
            "Downloading fsspec-2024.10.0-py3-none-any.whl (179 kB)\n",
            "Downloading namex-0.0.8-py3-none-any.whl (5.8 kB)\n",
            "Downloading networkx-3.4.2-py3-none-any.whl (1.7 MB)\n",
            "\u001b[2K   \u001b[90m━━━━━━━━━━━━━━━━━━━━━━━━━━━━━━━━━━━━━━━━\u001b[0m \u001b[32m1.7/1.7 MB\u001b[0m \u001b[31m63.3 MB/s\u001b[0m eta \u001b[36m0:00:00\u001b[0m\n",
            "\u001b[?25hDownloading optree-0.13.1-cp310-cp310-manylinux_2_17_x86_64.manylinux2014_x86_64.whl (381 kB)\n",
            "Downloading rich-13.9.4-py3-none-any.whl (242 kB)\n",
            "Downloading anyio-4.6.2.post1-py3-none-any.whl (90 kB)\n",
            "Downloading argon2_cffi-23.1.0-py3-none-any.whl (15 kB)\n",
            "Downloading async_lru-2.0.4-py3-none-any.whl (6.1 kB)\n",
            "Downloading babel-2.16.0-py3-none-any.whl (9.6 MB)\n",
            "\u001b[2K   \u001b[90m━━━━━━━━━━━━━━━━━━━━━━━━━━━━━━━━━━━━━━━━\u001b[0m \u001b[32m9.6/9.6 MB\u001b[0m \u001b[31m88.1 MB/s\u001b[0m eta \u001b[36m0:00:00\u001b[0m\n",
            "\u001b[?25hDownloading certifi-2024.8.30-py3-none-any.whl (167 kB)\n",
            "Downloading charset_normalizer-3.4.0-cp310-cp310-manylinux_2_17_x86_64.manylinux2014_x86_64.whl (144 kB)\n",
            "Downloading httpx-0.28.0-py3-none-any.whl (73 kB)\n",
            "Downloading httpcore-1.0.7-py3-none-any.whl (78 kB)\n",
            "Downloading idna-3.10-py3-none-any.whl (70 kB)\n",
            "Downloading ipykernel-6.29.5-py3-none-any.whl (117 kB)\n",
            "Downloading json5-0.10.0-py3-none-any.whl (34 kB)\n",
            "Downloading jsonschema-4.23.0-py3-none-any.whl (88 kB)\n",
            "Downloading jupyter_client-8.6.3-py3-none-any.whl (106 kB)\n",
            "Downloading jupyter_core-5.7.2-py3-none-any.whl (28 kB)\n",
            "Downloading jupyter_events-0.10.0-py3-none-any.whl (18 kB)\n",
            "Downloading jupyter_lsp-2.2.5-py3-none-any.whl (69 kB)\n",
            "Downloading jupyter_server_terminals-0.5.3-py3-none-any.whl (13 kB)\n",
            "Downloading Markdown-3.7-py3-none-any.whl (106 kB)\n",
            "Downloading markdown_it_py-3.0.0-py3-none-any.whl (87 kB)\n",
            "Downloading MarkupSafe-3.0.2-cp310-cp310-manylinux_2_17_x86_64.manylinux2014_x86_64.whl (20 kB)\n",
            "Downloading mpmath-1.3.0-py3-none-any.whl (536 kB)\n",
            "\u001b[2K   \u001b[90m━━━━━━━━━━━━━━━━━━━━━━━━━━━━━━━━━━━━━━━━\u001b[0m \u001b[32m536.2/536.2 kB\u001b[0m \u001b[31m16.8 MB/s\u001b[0m eta \u001b[36m0:00:00\u001b[0m\n",
            "\u001b[?25hDownloading nbconvert-7.16.4-py3-none-any.whl (257 kB)\n",
            "Downloading nbformat-5.10.4-py3-none-any.whl (78 kB)\n",
            "Downloading overrides-7.7.0-py3-none-any.whl (17 kB)\n",
            "Downloading prometheus_client-0.21.0-py3-none-any.whl (54 kB)\n",
            "Downloading pygments-2.18.0-py3-none-any.whl (1.2 MB)\n",
            "\u001b[2K   \u001b[90m━━━━━━━━━━━━━━━━━━━━━━━━━━━━━━━━━━━━━━━━\u001b[0m \u001b[32m1.2/1.2 MB\u001b[0m \u001b[31m45.1 MB/s\u001b[0m eta \u001b[36m0:00:00\u001b[0m\n",
            "\u001b[?25hDownloading pyzmq-26.2.0-cp310-cp310-manylinux_2_28_x86_64.whl (868 kB)\n",
            "\u001b[2K   \u001b[90m━━━━━━━━━━━━━━━━━━━━━━━━━━━━━━━━━━━━━━━━\u001b[0m \u001b[32m868.8/868.8 kB\u001b[0m \u001b[31m27.3 MB/s\u001b[0m eta \u001b[36m0:00:00\u001b[0m\n",
            "\u001b[?25hDownloading Send2Trash-1.8.3-py3-none-any.whl (18 kB)\n",
            "Downloading tensorboard_data_server-0.7.2-py3-none-manylinux_2_31_x86_64.whl (6.6 MB)\n",
            "\u001b[2K   \u001b[90m━━━━━━━━━━━━━━━━━━━━━━━━━━━━━━━━━━━━━━━━\u001b[0m \u001b[32m6.6/6.6 MB\u001b[0m \u001b[31m82.2 MB/s\u001b[0m eta \u001b[36m0:00:00\u001b[0m\n",
            "\u001b[?25hDownloading terminado-0.18.1-py3-none-any.whl (14 kB)\n",
            "Downloading tomli-2.2.1-py3-none-any.whl (14 kB)\n",
            "Downloading traitlets-5.14.3-py3-none-any.whl (85 kB)\n",
            "Downloading urllib3-2.2.3-py3-none-any.whl (126 kB)\n",
            "Downloading websocket_client-1.8.0-py3-none-any.whl (58 kB)\n",
            "Downloading werkzeug-3.1.3-py3-none-any.whl (224 kB)\n",
            "Downloading attrs-24.2.0-py3-none-any.whl (63 kB)\n",
            "Downloading bleach-6.2.0-py3-none-any.whl (163 kB)\n",
            "Downloading comm-0.2.2-py3-none-any.whl (7.2 kB)\n",
            "Downloading debugpy-1.8.9-cp310-cp310-manylinux_2_5_x86_64.manylinux1_x86_64.manylinux_2_17_x86_64.manylinux2014_x86_64.whl (3.6 MB)\n",
            "\u001b[2K   \u001b[90m━━━━━━━━━━━━━━━━━━━━━━━━━━━━━━━━━━━━━━━━\u001b[0m \u001b[32m3.6/3.6 MB\u001b[0m \u001b[31m67.4 MB/s\u001b[0m eta \u001b[36m0:00:00\u001b[0m\n",
            "\u001b[?25hDownloading exceptiongroup-1.2.2-py3-none-any.whl (16 kB)\n",
            "Downloading fastjsonschema-2.21.1-py3-none-any.whl (23 kB)\n",
            "Downloading ipython-8.30.0-py3-none-any.whl (820 kB)\n",
            "\u001b[2K   \u001b[90m━━━━━━━━━━━━━━━━━━━━━━━━━━━━━━━━━━━━━━━━\u001b[0m \u001b[32m820.8/820.8 kB\u001b[0m \u001b[31m27.6 MB/s\u001b[0m eta \u001b[36m0:00:00\u001b[0m\n",
            "\u001b[?25hDownloading jsonschema_specifications-2024.10.1-py3-none-any.whl (18 kB)\n",
            "Downloading matplotlib_inline-0.1.7-py3-none-any.whl (9.9 kB)\n",
            "Downloading mdurl-0.1.2-py3-none-any.whl (10.0 kB)\n",
            "Downloading mistune-3.0.2-py3-none-any.whl (47 kB)\n",
            "Downloading nbclient-0.10.1-py3-none-any.whl (25 kB)\n",
            "Downloading pandocfilters-1.5.1-py2.py3-none-any.whl (8.7 kB)\n",
            "Downloading platformdirs-4.3.6-py3-none-any.whl (18 kB)\n",
            "Downloading python_json_logger-2.0.7-py3-none-any.whl (8.1 kB)\n",
            "Downloading PyYAML-6.0.2-cp310-cp310-manylinux_2_17_x86_64.manylinux2014_x86_64.whl (751 kB)\n",
            "\u001b[2K   \u001b[90m━━━━━━━━━━━━━━━━━━━━━━━━━━━━━━━━━━━━━━━━\u001b[0m \u001b[32m751.2/751.2 kB\u001b[0m \u001b[31m25.5 MB/s\u001b[0m eta \u001b[36m0:00:00\u001b[0m\n",
            "\u001b[?25hDownloading referencing-0.35.1-py3-none-any.whl (26 kB)\n",
            "Downloading rfc3986_validator-0.1.1-py2.py3-none-any.whl (4.2 kB)\n",
            "Downloading rpds_py-0.21.0-cp310-cp310-manylinux_2_17_x86_64.manylinux2014_x86_64.whl (360 kB)\n",
            "Downloading sniffio-1.3.1-py3-none-any.whl (10 kB)\n",
            "Downloading argon2_cffi_bindings-21.2.0-cp36-abi3-manylinux_2_17_x86_64.manylinux2014_x86_64.whl (86 kB)\n",
            "Downloading beautifulsoup4-4.12.3-py3-none-any.whl (147 kB)\n",
            "Downloading defusedxml-0.7.1-py2.py3-none-any.whl (25 kB)\n",
            "Downloading jupyterlab_pygments-0.3.0-py3-none-any.whl (15 kB)\n",
            "Downloading nest_asyncio-1.6.0-py3-none-any.whl (5.2 kB)\n",
            "Downloading psutil-6.1.0-cp36-abi3-manylinux_2_12_x86_64.manylinux2010_x86_64.manylinux_2_17_x86_64.manylinux2014_x86_64.whl (287 kB)\n",
            "Downloading ptyprocess-0.7.0-py2.py3-none-any.whl (13 kB)\n",
            "Downloading rfc3339_validator-0.1.4-py2.py3-none-any.whl (3.5 kB)\n",
            "Downloading tinycss2-1.4.0-py3-none-any.whl (26 kB)\n",
            "Downloading cffi-1.17.1-cp310-cp310-manylinux_2_17_x86_64.manylinux2014_x86_64.whl (446 kB)\n",
            "Downloading h11-0.14.0-py3-none-any.whl (58 kB)\n",
            "Downloading jedi-0.19.2-py2.py3-none-any.whl (1.6 MB)\n",
            "\u001b[2K   \u001b[90m━━━━━━━━━━━━━━━━━━━━━━━━━━━━━━━━━━━━━━━━\u001b[0m \u001b[32m1.6/1.6 MB\u001b[0m \u001b[31m49.0 MB/s\u001b[0m eta \u001b[36m0:00:00\u001b[0m\n",
            "\u001b[?25hDownloading jsonpointer-3.0.0-py2.py3-none-any.whl (7.6 kB)\n",
            "Downloading pexpect-4.9.0-py2.py3-none-any.whl (63 kB)\n",
            "Downloading prompt_toolkit-3.0.48-py3-none-any.whl (386 kB)\n",
            "Downloading soupsieve-2.6-py3-none-any.whl (36 kB)\n",
            "Downloading webcolors-24.11.1-py3-none-any.whl (14 kB)\n",
            "Downloading webencodings-0.5.1-py2.py3-none-any.whl (11 kB)\n",
            "Downloading decorator-5.1.1-py3-none-any.whl (9.1 kB)\n",
            "Downloading fqdn-1.5.1-py3-none-any.whl (9.1 kB)\n",
            "Downloading isoduration-20.11.0-py3-none-any.whl (11 kB)\n",
            "Downloading stack_data-0.6.3-py3-none-any.whl (24 kB)\n",
            "Downloading uri_template-1.3.0-py3-none-any.whl (11 kB)\n",
            "Downloading arrow-1.3.0-py3-none-any.whl (66 kB)\n",
            "Downloading asttokens-3.0.0-py3-none-any.whl (26 kB)\n",
            "Downloading executing-2.1.0-py2.py3-none-any.whl (25 kB)\n",
            "Downloading parso-0.8.4-py2.py3-none-any.whl (103 kB)\n",
            "Downloading pure_eval-0.2.3-py3-none-any.whl (11 kB)\n",
            "Downloading pycparser-2.22-py3-none-any.whl (117 kB)\n",
            "Downloading wcwidth-0.2.13-py2.py3-none-any.whl (34 kB)\n",
            "Downloading types_python_dateutil-2.9.0.20241003-py3-none-any.whl (9.7 kB)\n",
            "Installing collected packages: webencodings, wcwidth, pytz, pure-eval, ptyprocess, namex, mpmath, libclang, flatbuffers, fastjsonschema, wrapt, websocket-client, webcolors, urllib3, uri-template, tzdata, typing-extensions, types-python-dateutil, traitlets, tornado, tomli, tinycss2, threadpoolctl, termcolor, tensorflow-io-gcs-filesystem, tensorboard-data-server, sympy, soupsieve, sniffio, six, send2trash, rpds-py, rfc3986-validator, pyzmq, pyyaml, python-json-logger, pyparsing, pygments, pycparser, psutil, protobuf, prompt_toolkit, prometheus-client, platformdirs, pillow, pexpect, parso, pandocfilters, packaging, overrides, opt-einsum, nvidia-nvtx-cu12, nvidia-nvjitlink-cu12, nvidia-nccl-cu12, nvidia-curand-cu12, nvidia-cufft-cu12, nvidia-cuda-runtime-cu12, nvidia-cuda-nvrtc-cu12, nvidia-cuda-cupti-cu12, nvidia-cublas-cu12, numpy, networkx, nest-asyncio, mistune, mdurl, MarkupSafe, markdown, kiwisolver, jupyterlab-pygments, jsonpointer, json5, joblib, idna, h11, grpcio, gast, fsspec, fqdn, fonttools, filelock, executing, exceptiongroup, defusedxml, decorator, debugpy, cycler, charset-normalizer, certifi, bleach, babel, attrs, asttokens, absl-py, werkzeug, triton, terminado, stack_data, scipy, rfc3339-validator, requests, referencing, python-dateutil, optree, nvidia-cusparse-cu12, nvidia-cudnn-cu12, ml-dtypes, matplotlib-inline, markdown-it-py, jupyter-core, jinja2, jedi, httpcore, h5py, google-pasta, contourpy, comm, cffi, beautifulsoup4, async-lru, astunparse, anyio, tensorboard, scikit-learn, rich, pandas, nvidia-cusolver-cu12, matplotlib, jupyter-server-terminals, jupyter-client, jsonschema-specifications, ipython, httpx, arrow, argon2-cffi-bindings, torch, seaborn, keras, jsonschema, isoduration, ipykernel, argon2-cffi, tensorflow, nbformat, nbclient, jupyter-events, nbconvert, jupyter-server, notebook-shim, jupyterlab-server, jupyter-lsp, jupyterlab, notebook\n",
            "Successfully installed MarkupSafe-3.0.2 absl-py-2.1.0 anyio-4.6.2.post1 argon2-cffi-23.1.0 argon2-cffi-bindings-21.2.0 arrow-1.3.0 asttokens-3.0.0 astunparse-1.6.3 async-lru-2.0.4 attrs-24.2.0 babel-2.16.0 beautifulsoup4-4.12.3 bleach-6.2.0 certifi-2024.8.30 cffi-1.17.1 charset-normalizer-3.4.0 comm-0.2.2 contourpy-1.3.1 cycler-0.12.1 debugpy-1.8.9 decorator-5.1.1 defusedxml-0.7.1 exceptiongroup-1.2.2 executing-2.1.0 fastjsonschema-2.21.1 filelock-3.16.1 flatbuffers-24.3.25 fonttools-4.55.0 fqdn-1.5.1 fsspec-2024.10.0 gast-0.6.0 google-pasta-0.2.0 grpcio-1.68.1 h11-0.14.0 h5py-3.12.1 httpcore-1.0.7 httpx-0.28.0 idna-3.10 ipykernel-6.29.5 ipython-8.30.0 isoduration-20.11.0 jedi-0.19.2 jinja2-3.1.4 joblib-1.4.2 json5-0.10.0 jsonpointer-3.0.0 jsonschema-4.23.0 jsonschema-specifications-2024.10.1 jupyter-client-8.6.3 jupyter-core-5.7.2 jupyter-events-0.10.0 jupyter-lsp-2.2.5 jupyter-server-2.14.2 jupyter-server-terminals-0.5.3 jupyterlab-4.2.6 jupyterlab-pygments-0.3.0 jupyterlab-server-2.27.3 keras-3.7.0 kiwisolver-1.4.7 libclang-18.1.1 markdown-3.7 markdown-it-py-3.0.0 matplotlib-3.9.3 matplotlib-inline-0.1.7 mdurl-0.1.2 mistune-3.0.2 ml-dtypes-0.4.1 mpmath-1.3.0 namex-0.0.8 nbclient-0.10.1 nbconvert-7.16.4 nbformat-5.10.4 nest-asyncio-1.6.0 networkx-3.4.2 notebook-7.2.2 notebook-shim-0.2.4 numpy-2.0.2 nvidia-cublas-cu12-12.4.5.8 nvidia-cuda-cupti-cu12-12.4.127 nvidia-cuda-nvrtc-cu12-12.4.127 nvidia-cuda-runtime-cu12-12.4.127 nvidia-cudnn-cu12-9.1.0.70 nvidia-cufft-cu12-11.2.1.3 nvidia-curand-cu12-10.3.5.147 nvidia-cusolver-cu12-11.6.1.9 nvidia-cusparse-cu12-12.3.1.170 nvidia-nccl-cu12-2.21.5 nvidia-nvjitlink-cu12-12.4.127 nvidia-nvtx-cu12-12.4.127 opt-einsum-3.4.0 optree-0.13.1 overrides-7.7.0 packaging-24.2 pandas-2.2.3 pandocfilters-1.5.1 parso-0.8.4 pexpect-4.9.0 pillow-11.0.0 platformdirs-4.3.6 prometheus-client-0.21.0 prompt_toolkit-3.0.48 protobuf-5.29.0 psutil-6.1.0 ptyprocess-0.7.0 pure-eval-0.2.3 pycparser-2.22 pygments-2.18.0 pyparsing-3.2.0 python-dateutil-2.9.0.post0 python-json-logger-2.0.7 pytz-2024.2 pyyaml-6.0.2 pyzmq-26.2.0 referencing-0.35.1 requests-2.32.3 rfc3339-validator-0.1.4 rfc3986-validator-0.1.1 rich-13.9.4 rpds-py-0.21.0 scikit-learn-1.5.2 scipy-1.14.1 seaborn-0.13.2 send2trash-1.8.3 six-1.16.0 sniffio-1.3.1 soupsieve-2.6 stack_data-0.6.3 sympy-1.13.1 tensorboard-2.18.0 tensorboard-data-server-0.7.2 tensorflow-2.18.0 tensorflow-io-gcs-filesystem-0.37.1 termcolor-2.5.0 terminado-0.18.1 threadpoolctl-3.5.0 tinycss2-1.4.0 tomli-2.2.1 torch-2.5.1 tornado-6.4.2 traitlets-5.14.3 triton-3.1.0 types-python-dateutil-2.9.0.20241003 typing-extensions-4.12.2 tzdata-2024.2 uri-template-1.3.0 urllib3-2.2.3 wcwidth-0.2.13 webcolors-24.11.1 webencodings-0.5.1 websocket-client-1.8.0 werkzeug-3.1.3 wrapt-1.17.0\n"
          ]
        }
      ]
    },
    {
      "cell_type": "markdown",
      "source": [
        "> 4. Gere um arquivo de requerimentos (requirements.txt) com os pacotes necessários. É necessário se certificar que a versão do pacote está disponibilizada."
      ],
      "metadata": {
        "id": "w9XBl-x2mYif"
      }
    },
    {
      "cell_type": "code",
      "source": [
        "!pip freeze > requirements.txt"
      ],
      "metadata": {
        "id": "N-AfkilLnUHP"
      },
      "execution_count": 11,
      "outputs": []
    },
    {
      "cell_type": "markdown",
      "source": [
        "> 5. Tire um printscreen do ambiente que será usado rodando em sua máquina."
      ],
      "metadata": {
        "id": "crrysR-Bm1-g"
      }
    },
    {
      "cell_type": "code",
      "source": [
        "!ambienteVirtual/bin/python -c \"import sys; print(sys.executable)\""
      ],
      "metadata": {
        "colab": {
          "base_uri": "https://localhost:8080/"
        },
        "id": "buIWyCCjne8n",
        "outputId": "b241dd99-ddb7-477b-b9e4-e25350c393f3"
      },
      "execution_count": 12,
      "outputs": [
        {
          "output_type": "stream",
          "name": "stdout",
          "text": [
            "/content/ambienteVirtual/bin/python\n"
          ]
        }
      ]
    },
    {
      "cell_type": "markdown",
      "source": [
        "![image.png](data:image/png;base64,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)"
      ],
      "metadata": {
        "id": "IN30VZGcnmWH"
      }
    },
    {
      "cell_type": "markdown",
      "source": [
        ">6. Disponibilize os códigos gerados, assim como os artefatos acessórios (requirements.txt) e instruções em um repositório GIT público. (se isso não for feito, o diretório com esses arquivos deverá ser enviado compactado no moodle)."
      ],
      "metadata": {
        "id": "c9ZCPKREm3ZY"
      }
    },
    {
      "cell_type": "markdown",
      "source": [
        "\n",
        "\n",
        "---\n",
        "\n"
      ],
      "metadata": {
        "id": "7nhj-YE9m8xI"
      }
    },
    {
      "cell_type": "markdown",
      "source": [
        "# **Escolha de base de dados**"
      ],
      "metadata": {
        "id": "BYqJdL1dptQO"
      }
    },
    {
      "cell_type": "markdown",
      "source": [
        "Para as questões a seguir, usaremos uma base de dados e faremos a análise exploratória dos dados, antes da clusterização."
      ],
      "metadata": {
        "id": "bmxF7e4hpwo_"
      }
    },
    {
      "cell_type": "markdown",
      "source": [
        "> 1. Escolha uma base de dados para realizar o trabalho. Essa base será usada em um problema de clusterização."
      ],
      "metadata": {
        "id": "3M-8tPPJpy0n"
      }
    },
    {
      "cell_type": "markdown",
      "source": [
        ">2. Escreva a justificativa para a escolha de dados, dando sua motivação e objetivos."
      ],
      "metadata": {
        "id": "ifhdHVKMp2eP"
      }
    },
    {
      "cell_type": "markdown",
      "source": [
        "> 3. Mostre através de gráficos a faixa dinâmica das variáveis que serão usadas nas tarefas de clusterização. Analise os resultados mostrados. O que deve ser feito com os dados antes da etapa de clusterização?"
      ],
      "metadata": {
        "id": "AIGncKCXp4kf"
      }
    },
    {
      "cell_type": "markdown",
      "source": [
        ">4. Realize o pré-processamento adequado dos dados. Descreva os passos necessários."
      ],
      "metadata": {
        "id": "MaOm5jvcp7rv"
      }
    },
    {
      "cell_type": "markdown",
      "source": [
        "\n",
        "\n",
        "---\n",
        "\n"
      ],
      "metadata": {
        "id": "4o7_Uxsdp-Zn"
      }
    },
    {
      "cell_type": "markdown",
      "source": [
        "# **Clusterização**"
      ],
      "metadata": {
        "id": "XUiPQ0Tsp_v3"
      }
    },
    {
      "cell_type": "markdown",
      "source": [
        "Para os dados pré-processados da etapa anterior você irá:"
      ],
      "metadata": {
        "id": "EJdxcIfJqDAw"
      }
    },
    {
      "cell_type": "markdown",
      "source": [
        ">1. Realizar o agrupamento dos dados, escolhendo o número ótimo de clusters. Para tal, use o índice de silhueta e as técnicas:"
      ],
      "metadata": {
        "id": "Pfyt5LPUqGzX"
      }
    },
    {
      "cell_type": "markdown",
      "source": [
        "a. K-Médias"
      ],
      "metadata": {
        "id": "BBcw6piTqNMY"
      }
    },
    {
      "cell_type": "markdown",
      "source": [
        "b.DBScan"
      ],
      "metadata": {
        "id": "mmCr6dp3qPiP"
      }
    },
    {
      "cell_type": "markdown",
      "source": [
        ">2. Com os resultados em mão, descreva o processo de mensuração do índice de silhueta. Mostre o gráfico e justifique o número de clusters escolhidos."
      ],
      "metadata": {
        "id": "75WJAgVOqS9Q"
      }
    },
    {
      "cell_type": "markdown",
      "source": [
        ">3. Compare os dois resultados, aponte as semelhanças e diferenças e interprete."
      ],
      "metadata": {
        "id": "z7NxPUDUrccb"
      }
    },
    {
      "cell_type": "markdown",
      "source": [
        ">4.Escolha mais duas medidas de validação para comparar com o índice de silhueta e analise os resultados encontrados."
      ],
      "metadata": {
        "id": "aJQmI0jsrtDb"
      }
    },
    {
      "cell_type": "markdown",
      "source": [
        ">5. Realizando a análise, responda: A silhueta é um o índice indicado para escolher o número de clusters para o algoritmo de DBScan?"
      ],
      "metadata": {
        "id": "BMq44UVorvjL"
      }
    },
    {
      "cell_type": "markdown",
      "source": [
        "\n",
        "\n",
        "---\n",
        "\n"
      ],
      "metadata": {
        "id": "8Lg1etBYryxT"
      }
    },
    {
      "cell_type": "markdown",
      "source": [
        "# **Medidas de similaridade**"
      ],
      "metadata": {
        "id": "_99EvUXFrzwb"
      }
    },
    {
      "cell_type": "markdown",
      "source": [
        ">1. Um determinado problema, apresenta 10 séries temporais distintas. Gostaríamos de agrupá-las em 3 grupos, de acordo com um critério de similaridade, baseado no valor máximo de correlação cruzada entre elas. Descreva em tópicos todos os passos necessários."
      ],
      "metadata": {
        "id": "U_zQa66OsR6s"
      }
    },
    {
      "cell_type": "markdown",
      "source": [
        ">2. Para o problema da questão anterior, indique qual algoritmo de clusterização você usaria. Justifique."
      ],
      "metadata": {
        "id": "nxHqVNHDsUW0"
      }
    },
    {
      "cell_type": "markdown",
      "source": [
        ">3.Indique um caso de uso para essa solução projetada."
      ],
      "metadata": {
        "id": "P8JHGjoPsX79"
      }
    },
    {
      "cell_type": "markdown",
      "source": [
        ">4. Sugira outra estratégia para medir a similaridade entre séries temporais. Descreva em tópicos os passos necessários."
      ],
      "metadata": {
        "id": "ADZJzGr5sbFl"
      }
    }
  ]
}