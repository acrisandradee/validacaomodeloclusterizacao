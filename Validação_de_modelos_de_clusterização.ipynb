{
  "nbformat": 4,
  "nbformat_minor": 0,
  "metadata": {
    "colab": {
      "provenance": [],
      "mount_file_id": "1vTPKB_h3osyspTLptts0x-7SQhk4hKCx",
      "authorship_tag": "ABX9TyNcq3sRoD1J0EQhFTjPL90q",
      "include_colab_link": true
    },
    "kernelspec": {
      "name": "python3",
      "display_name": "Python 3"
    },
    "language_info": {
      "name": "python"
    }
  },
  "cells": [
    {
      "cell_type": "markdown",
      "metadata": {
        "id": "view-in-github",
        "colab_type": "text"
      },
      "source": [
        "<a href=\"https://colab.research.google.com/github/acrisandradee/validacaomodeloclusterizacao/blob/main/Valida%C3%A7%C3%A3o_de_modelos_de_clusteriza%C3%A7%C3%A3o.ipynb\" target=\"_parent\"><img src=\"https://colab.research.google.com/assets/colab-badge.svg\" alt=\"Open In Colab\"/></a>"
      ]
    },
    {
      "cell_type": "markdown",
      "source": [
        "\n",
        "![image.png](data:image/png;base64,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)\n",
        "\n",
        "\n",
        "\n",
        "# **Algoritmos de Inteligência Artificial para clusterização**\n",
        "\n",
        "https://github.com/acrisandradee/algoritimoIAparaclusterizacao/blob/master/pd_cris_andrade.ipynb\n",
        "\n",
        "Aluno: Cristina de assis andrade\n",
        "\n",
        "Professor: Charles Bezerra do Prado\n"
      ],
      "metadata": {
        "id": "IQRSS0WAjT3V"
      }
    },
    {
      "cell_type": "markdown",
      "source": [
        "# **Infraestrutura**"
      ],
      "metadata": {
        "id": "ql2djHS2klfa"
      }
    },
    {
      "cell_type": "markdown",
      "source": [
        "Para as questões a seguir, você deverá executar códigos em um notebook Jupyter, rodando em ambiente local, certifique-se que:"
      ],
      "metadata": {
        "id": "sdYFj4FsmGQW"
      }
    },
    {
      "cell_type": "markdown",
      "source": [
        "> 1. Você está rodando em Python 3.9+\n",
        "\n",
        "\n",
        "\n",
        "\n"
      ],
      "metadata": {
        "id": "Zt3ZbSjlmIE1"
      }
    },
    {
      "cell_type": "code",
      "source": [
        "!python --version\n"
      ],
      "metadata": {
        "colab": {
          "base_uri": "https://localhost:8080/"
        },
        "id": "FBh14m9Yjh9U",
        "outputId": "4ffffdfe-082e-4097-9070-1e503baca4b1"
      },
      "execution_count": null,
      "outputs": [
        {
          "output_type": "stream",
          "name": "stdout",
          "text": [
            "Python 3.10.12\n"
          ]
        }
      ]
    },
    {
      "cell_type": "markdown",
      "source": [
        "> 2. Você está usando um ambiente virtual: Virtualenv ou Anaconda"
      ],
      "metadata": {
        "id": "Zl0vDvEsmLaG"
      }
    },
    {
      "cell_type": "code",
      "source": [
        "!pip install virtualenv"
      ],
      "metadata": {
        "colab": {
          "base_uri": "https://localhost:8080/"
        },
        "id": "jR4hn5uUjwMk",
        "outputId": "84540581-6d0b-4d2a-e573-d07ae46b10ac"
      },
      "execution_count": null,
      "outputs": [
        {
          "output_type": "stream",
          "name": "stdout",
          "text": [
            "Collecting virtualenv\n",
            "  Downloading virtualenv-20.28.0-py3-none-any.whl.metadata (4.4 kB)\n",
            "Collecting distlib<1,>=0.3.7 (from virtualenv)\n",
            "  Downloading distlib-0.3.9-py2.py3-none-any.whl.metadata (5.2 kB)\n",
            "Requirement already satisfied: filelock<4,>=3.12.2 in /usr/local/lib/python3.10/dist-packages (from virtualenv) (3.16.1)\n",
            "Requirement already satisfied: platformdirs<5,>=3.9.1 in /usr/local/lib/python3.10/dist-packages (from virtualenv) (4.3.6)\n",
            "Downloading virtualenv-20.28.0-py3-none-any.whl (4.3 MB)\n",
            "\u001b[?25l   \u001b[90m━━━━━━━━━━━━━━━━━━━━━━━━━━━━━━━━━━━━━━━━\u001b[0m \u001b[32m0.0/4.3 MB\u001b[0m \u001b[31m?\u001b[0m eta \u001b[36m-:--:--\u001b[0m\r\u001b[2K   \u001b[91m━━━━━━━\u001b[0m\u001b[90m╺\u001b[0m\u001b[90m━━━━━━━━━━━━━━━━━━━━━━━━━━━━━━━━\u001b[0m \u001b[32m0.8/4.3 MB\u001b[0m \u001b[31m23.1 MB/s\u001b[0m eta \u001b[36m0:00:01\u001b[0m\r\u001b[2K   \u001b[91m━━━━━━━━━━━━━━━━━━━━━━━━━━━━━━━━━━━━━━━\u001b[0m\u001b[91m╸\u001b[0m \u001b[32m4.3/4.3 MB\u001b[0m \u001b[31m73.6 MB/s\u001b[0m eta \u001b[36m0:00:01\u001b[0m\r\u001b[2K   \u001b[90m━━━━━━━━━━━━━━━━━━━━━━━━━━━━━━━━━━━━━━━━\u001b[0m \u001b[32m4.3/4.3 MB\u001b[0m \u001b[31m48.0 MB/s\u001b[0m eta \u001b[36m0:00:00\u001b[0m\n",
            "\u001b[?25hDownloading distlib-0.3.9-py2.py3-none-any.whl (468 kB)\n",
            "\u001b[2K   \u001b[90m━━━━━━━━━━━━━━━━━━━━━━━━━━━━━━━━━━━━━━━━\u001b[0m \u001b[32m469.0/469.0 kB\u001b[0m \u001b[31m29.0 MB/s\u001b[0m eta \u001b[36m0:00:00\u001b[0m\n",
            "\u001b[?25hInstalling collected packages: distlib, virtualenv\n",
            "Successfully installed distlib-0.3.9 virtualenv-20.28.0\n"
          ]
        }
      ]
    },
    {
      "cell_type": "code",
      "source": [
        "!virtualenv ambienteVirtual"
      ],
      "metadata": {
        "colab": {
          "base_uri": "https://localhost:8080/"
        },
        "id": "9jUYwJtyj3aN",
        "outputId": "92722c4e-e6c0-46f8-a519-a6e78a883e93"
      },
      "execution_count": null,
      "outputs": [
        {
          "output_type": "stream",
          "name": "stdout",
          "text": [
            "created virtual environment CPython3.10.12.final.0-64 in 1184ms\n",
            "  creator CPython3Posix(dest=/content/ambienteVirtual, clear=False, no_vcs_ignore=False, global=False)\n",
            "  seeder FromAppData(download=False, pip=bundle, setuptools=bundle, wheel=bundle, via=copy, app_data_dir=/root/.local/share/virtualenv)\n",
            "    added seed packages: pip==24.3.1, setuptools==75.6.0, wheel==0.45.1\n",
            "  activators BashActivator,CShellActivator,FishActivator,NushellActivator,PowerShellActivator,PythonActivator\n"
          ]
        }
      ]
    },
    {
      "cell_type": "code",
      "source": [
        "!python3 -m venv /content/ambienteVirtual"
      ],
      "metadata": {
        "colab": {
          "base_uri": "https://localhost:8080/"
        },
        "id": "mBxm4MZ5kx21",
        "outputId": "cd113c65-fd42-4412-d451-df56003ceb1d"
      },
      "execution_count": null,
      "outputs": [
        {
          "output_type": "stream",
          "name": "stdout",
          "text": [
            "The virtual environment was not created successfully because ensurepip is not\n",
            "available.  On Debian/Ubuntu systems, you need to install the python3-venv\n",
            "package using the following command.\n",
            "\n",
            "    apt install python3.10-venv\n",
            "\n",
            "You may need to use sudo with that command.  After installing the python3-venv\n",
            "package, recreate your virtual environment.\n",
            "\n",
            "Failing command: /content/ambienteVirtual/bin/python3\n",
            "\n"
          ]
        }
      ]
    },
    {
      "cell_type": "markdown",
      "source": [
        "> 3. Todas as bibliotecas usadas nesse exercícios estão instaladas em um ambiente virtual específico"
      ],
      "metadata": {
        "id": "mdfSL-KrmXIX"
      }
    },
    {
      "cell_type": "code",
      "source": [
        "!ambienteVirtual/bin/python -m pip install numpy pandas matplotlib seaborn scikit-learn tensorflow keras torch notebook\n"
      ],
      "metadata": {
        "colab": {
          "base_uri": "https://localhost:8080/"
        },
        "id": "K3BpOl5ykn0V",
        "outputId": "35349b6c-50bf-4e56-a9bd-8810c86bec28"
      },
      "execution_count": null,
      "outputs": [
        {
          "output_type": "stream",
          "name": "stdout",
          "text": [
            "Collecting numpy\n",
            "  Downloading numpy-2.1.3-cp310-cp310-manylinux_2_17_x86_64.manylinux2014_x86_64.whl.metadata (62 kB)\n",
            "Collecting pandas\n",
            "  Downloading pandas-2.2.3-cp310-cp310-manylinux_2_17_x86_64.manylinux2014_x86_64.whl.metadata (89 kB)\n",
            "Collecting matplotlib\n",
            "  Downloading matplotlib-3.9.3-cp310-cp310-manylinux_2_17_x86_64.manylinux2014_x86_64.whl.metadata (11 kB)\n",
            "Collecting seaborn\n",
            "  Downloading seaborn-0.13.2-py3-none-any.whl.metadata (5.4 kB)\n",
            "Collecting scikit-learn\n",
            "  Downloading scikit_learn-1.5.2-cp310-cp310-manylinux_2_17_x86_64.manylinux2014_x86_64.whl.metadata (13 kB)\n",
            "Collecting tensorflow\n",
            "  Downloading tensorflow-2.18.0-cp310-cp310-manylinux_2_17_x86_64.manylinux2014_x86_64.whl.metadata (4.1 kB)\n",
            "Collecting keras\n",
            "  Downloading keras-3.7.0-py3-none-any.whl.metadata (5.8 kB)\n",
            "Collecting torch\n",
            "  Downloading torch-2.5.1-cp310-cp310-manylinux1_x86_64.whl.metadata (28 kB)\n",
            "Collecting notebook\n",
            "  Downloading notebook-7.2.2-py3-none-any.whl.metadata (10 kB)\n",
            "Collecting python-dateutil>=2.8.2 (from pandas)\n",
            "  Downloading python_dateutil-2.9.0.post0-py2.py3-none-any.whl.metadata (8.4 kB)\n",
            "Collecting pytz>=2020.1 (from pandas)\n",
            "  Downloading pytz-2024.2-py2.py3-none-any.whl.metadata (22 kB)\n",
            "Collecting tzdata>=2022.7 (from pandas)\n",
            "  Downloading tzdata-2024.2-py2.py3-none-any.whl.metadata (1.4 kB)\n",
            "Collecting contourpy>=1.0.1 (from matplotlib)\n",
            "  Downloading contourpy-1.3.1-cp310-cp310-manylinux_2_17_x86_64.manylinux2014_x86_64.whl.metadata (5.4 kB)\n",
            "Collecting cycler>=0.10 (from matplotlib)\n",
            "  Downloading cycler-0.12.1-py3-none-any.whl.metadata (3.8 kB)\n",
            "Collecting fonttools>=4.22.0 (from matplotlib)\n",
            "  Downloading fonttools-4.55.0-cp310-cp310-manylinux_2_17_x86_64.manylinux2014_x86_64.whl.metadata (164 kB)\n",
            "Collecting kiwisolver>=1.3.1 (from matplotlib)\n",
            "  Downloading kiwisolver-1.4.7-cp310-cp310-manylinux_2_12_x86_64.manylinux2010_x86_64.whl.metadata (6.3 kB)\n",
            "Collecting packaging>=20.0 (from matplotlib)\n",
            "  Downloading packaging-24.2-py3-none-any.whl.metadata (3.2 kB)\n",
            "Collecting pillow>=8 (from matplotlib)\n",
            "  Downloading pillow-11.0.0-cp310-cp310-manylinux_2_28_x86_64.whl.metadata (9.1 kB)\n",
            "Collecting pyparsing>=2.3.1 (from matplotlib)\n",
            "  Downloading pyparsing-3.2.0-py3-none-any.whl.metadata (5.0 kB)\n",
            "Collecting scipy>=1.6.0 (from scikit-learn)\n",
            "  Downloading scipy-1.14.1-cp310-cp310-manylinux_2_17_x86_64.manylinux2014_x86_64.whl.metadata (60 kB)\n",
            "Collecting joblib>=1.2.0 (from scikit-learn)\n",
            "  Downloading joblib-1.4.2-py3-none-any.whl.metadata (5.4 kB)\n",
            "Collecting threadpoolctl>=3.1.0 (from scikit-learn)\n",
            "  Downloading threadpoolctl-3.5.0-py3-none-any.whl.metadata (13 kB)\n",
            "Collecting absl-py>=1.0.0 (from tensorflow)\n",
            "  Downloading absl_py-2.1.0-py3-none-any.whl.metadata (2.3 kB)\n",
            "Collecting astunparse>=1.6.0 (from tensorflow)\n",
            "  Downloading astunparse-1.6.3-py2.py3-none-any.whl.metadata (4.4 kB)\n",
            "Collecting flatbuffers>=24.3.25 (from tensorflow)\n",
            "  Downloading flatbuffers-24.3.25-py2.py3-none-any.whl.metadata (850 bytes)\n",
            "Collecting gast!=0.5.0,!=0.5.1,!=0.5.2,>=0.2.1 (from tensorflow)\n",
            "  Downloading gast-0.6.0-py3-none-any.whl.metadata (1.3 kB)\n",
            "Collecting google-pasta>=0.1.1 (from tensorflow)\n",
            "  Downloading google_pasta-0.2.0-py3-none-any.whl.metadata (814 bytes)\n",
            "Collecting libclang>=13.0.0 (from tensorflow)\n",
            "  Downloading libclang-18.1.1-py2.py3-none-manylinux2010_x86_64.whl.metadata (5.2 kB)\n",
            "Collecting opt-einsum>=2.3.2 (from tensorflow)\n",
            "  Downloading opt_einsum-3.4.0-py3-none-any.whl.metadata (6.3 kB)\n",
            "Collecting protobuf!=4.21.0,!=4.21.1,!=4.21.2,!=4.21.3,!=4.21.4,!=4.21.5,<6.0.0dev,>=3.20.3 (from tensorflow)\n",
            "  Downloading protobuf-5.29.0-cp38-abi3-manylinux2014_x86_64.whl.metadata (592 bytes)\n",
            "Collecting requests<3,>=2.21.0 (from tensorflow)\n",
            "  Downloading requests-2.32.3-py3-none-any.whl.metadata (4.6 kB)\n",
            "Requirement already satisfied: setuptools in ./ambienteVirtual/lib/python3.10/site-packages (from tensorflow) (75.6.0)\n",
            "Collecting six>=1.12.0 (from tensorflow)\n",
            "  Downloading six-1.16.0-py2.py3-none-any.whl.metadata (1.8 kB)\n",
            "Collecting termcolor>=1.1.0 (from tensorflow)\n",
            "  Downloading termcolor-2.5.0-py3-none-any.whl.metadata (6.1 kB)\n",
            "Collecting typing-extensions>=3.6.6 (from tensorflow)\n",
            "  Downloading typing_extensions-4.12.2-py3-none-any.whl.metadata (3.0 kB)\n",
            "Collecting wrapt>=1.11.0 (from tensorflow)\n",
            "  Downloading wrapt-1.17.0-cp310-cp310-manylinux_2_5_x86_64.manylinux1_x86_64.manylinux_2_17_x86_64.manylinux2014_x86_64.whl.metadata (6.4 kB)\n",
            "Collecting grpcio<2.0,>=1.24.3 (from tensorflow)\n",
            "  Downloading grpcio-1.68.1-cp310-cp310-manylinux_2_17_x86_64.manylinux2014_x86_64.whl.metadata (3.9 kB)\n",
            "Collecting tensorboard<2.19,>=2.18 (from tensorflow)\n",
            "  Downloading tensorboard-2.18.0-py3-none-any.whl.metadata (1.6 kB)\n",
            "Collecting numpy\n",
            "  Downloading numpy-2.0.2-cp310-cp310-manylinux_2_17_x86_64.manylinux2014_x86_64.whl.metadata (60 kB)\n",
            "Collecting h5py>=3.11.0 (from tensorflow)\n",
            "  Downloading h5py-3.12.1-cp310-cp310-manylinux_2_17_x86_64.manylinux2014_x86_64.whl.metadata (2.5 kB)\n",
            "Collecting ml-dtypes<0.5.0,>=0.4.0 (from tensorflow)\n",
            "  Downloading ml_dtypes-0.4.1-cp310-cp310-manylinux_2_17_x86_64.manylinux2014_x86_64.whl.metadata (20 kB)\n",
            "Collecting tensorflow-io-gcs-filesystem>=0.23.1 (from tensorflow)\n",
            "  Downloading tensorflow_io_gcs_filesystem-0.37.1-cp310-cp310-manylinux_2_17_x86_64.manylinux2014_x86_64.whl.metadata (14 kB)\n",
            "Collecting rich (from keras)\n",
            "  Downloading rich-13.9.4-py3-none-any.whl.metadata (18 kB)\n",
            "Collecting namex (from keras)\n",
            "  Downloading namex-0.0.8-py3-none-any.whl.metadata (246 bytes)\n",
            "Collecting optree (from keras)\n",
            "  Downloading optree-0.13.1-cp310-cp310-manylinux_2_17_x86_64.manylinux2014_x86_64.whl.metadata (47 kB)\n",
            "Collecting filelock (from torch)\n",
            "  Downloading filelock-3.16.1-py3-none-any.whl.metadata (2.9 kB)\n",
            "Collecting networkx (from torch)\n",
            "  Downloading networkx-3.4.2-py3-none-any.whl.metadata (6.3 kB)\n",
            "Collecting jinja2 (from torch)\n",
            "  Downloading jinja2-3.1.4-py3-none-any.whl.metadata (2.6 kB)\n",
            "Collecting fsspec (from torch)\n",
            "  Downloading fsspec-2024.10.0-py3-none-any.whl.metadata (11 kB)\n",
            "Collecting nvidia-cuda-nvrtc-cu12==12.4.127 (from torch)\n",
            "  Downloading nvidia_cuda_nvrtc_cu12-12.4.127-py3-none-manylinux2014_x86_64.whl.metadata (1.5 kB)\n",
            "Collecting nvidia-cuda-runtime-cu12==12.4.127 (from torch)\n",
            "  Downloading nvidia_cuda_runtime_cu12-12.4.127-py3-none-manylinux2014_x86_64.whl.metadata (1.5 kB)\n",
            "Collecting nvidia-cuda-cupti-cu12==12.4.127 (from torch)\n",
            "  Downloading nvidia_cuda_cupti_cu12-12.4.127-py3-none-manylinux2014_x86_64.whl.metadata (1.6 kB)\n",
            "Collecting nvidia-cudnn-cu12==9.1.0.70 (from torch)\n",
            "  Downloading nvidia_cudnn_cu12-9.1.0.70-py3-none-manylinux2014_x86_64.whl.metadata (1.6 kB)\n",
            "Collecting nvidia-cublas-cu12==12.4.5.8 (from torch)\n",
            "  Downloading nvidia_cublas_cu12-12.4.5.8-py3-none-manylinux2014_x86_64.whl.metadata (1.5 kB)\n",
            "Collecting nvidia-cufft-cu12==11.2.1.3 (from torch)\n",
            "  Downloading nvidia_cufft_cu12-11.2.1.3-py3-none-manylinux2014_x86_64.whl.metadata (1.5 kB)\n",
            "Collecting nvidia-curand-cu12==10.3.5.147 (from torch)\n",
            "  Downloading nvidia_curand_cu12-10.3.5.147-py3-none-manylinux2014_x86_64.whl.metadata (1.5 kB)\n",
            "Collecting nvidia-cusolver-cu12==11.6.1.9 (from torch)\n",
            "  Downloading nvidia_cusolver_cu12-11.6.1.9-py3-none-manylinux2014_x86_64.whl.metadata (1.6 kB)\n",
            "Collecting nvidia-cusparse-cu12==12.3.1.170 (from torch)\n",
            "  Downloading nvidia_cusparse_cu12-12.3.1.170-py3-none-manylinux2014_x86_64.whl.metadata (1.6 kB)\n",
            "Collecting nvidia-nccl-cu12==2.21.5 (from torch)\n",
            "  Downloading nvidia_nccl_cu12-2.21.5-py3-none-manylinux2014_x86_64.whl.metadata (1.8 kB)\n",
            "Collecting nvidia-nvtx-cu12==12.4.127 (from torch)\n",
            "  Downloading nvidia_nvtx_cu12-12.4.127-py3-none-manylinux2014_x86_64.whl.metadata (1.7 kB)\n",
            "Collecting nvidia-nvjitlink-cu12==12.4.127 (from torch)\n",
            "  Downloading nvidia_nvjitlink_cu12-12.4.127-py3-none-manylinux2014_x86_64.whl.metadata (1.5 kB)\n",
            "Collecting triton==3.1.0 (from torch)\n",
            "  Downloading triton-3.1.0-cp310-cp310-manylinux_2_17_x86_64.manylinux2014_x86_64.whl.metadata (1.3 kB)\n",
            "Collecting sympy==1.13.1 (from torch)\n",
            "  Downloading sympy-1.13.1-py3-none-any.whl.metadata (12 kB)\n",
            "Collecting mpmath<1.4,>=1.1.0 (from sympy==1.13.1->torch)\n",
            "  Downloading mpmath-1.3.0-py3-none-any.whl.metadata (8.6 kB)\n",
            "Collecting jupyter-server<3,>=2.4.0 (from notebook)\n",
            "  Downloading jupyter_server-2.14.2-py3-none-any.whl.metadata (8.4 kB)\n",
            "Collecting jupyterlab-server<3,>=2.27.1 (from notebook)\n",
            "  Downloading jupyterlab_server-2.27.3-py3-none-any.whl.metadata (5.9 kB)\n",
            "Collecting jupyterlab<4.3,>=4.2.0 (from notebook)\n",
            "  Downloading jupyterlab-4.2.6-py3-none-any.whl.metadata (16 kB)\n",
            "Collecting notebook-shim<0.3,>=0.2 (from notebook)\n",
            "  Downloading notebook_shim-0.2.4-py3-none-any.whl.metadata (4.0 kB)\n",
            "Collecting tornado>=6.2.0 (from notebook)\n",
            "  Downloading tornado-6.4.2-cp38-abi3-manylinux_2_5_x86_64.manylinux1_x86_64.manylinux_2_17_x86_64.manylinux2014_x86_64.whl.metadata (2.5 kB)\n",
            "Requirement already satisfied: wheel<1.0,>=0.23.0 in ./ambienteVirtual/lib/python3.10/site-packages (from astunparse>=1.6.0->tensorflow) (0.45.1)\n",
            "Collecting anyio>=3.1.0 (from jupyter-server<3,>=2.4.0->notebook)\n",
            "  Downloading anyio-4.6.2.post1-py3-none-any.whl.metadata (4.7 kB)\n",
            "Collecting argon2-cffi>=21.1 (from jupyter-server<3,>=2.4.0->notebook)\n",
            "  Downloading argon2_cffi-23.1.0-py3-none-any.whl.metadata (5.2 kB)\n",
            "Collecting jupyter-client>=7.4.4 (from jupyter-server<3,>=2.4.0->notebook)\n",
            "  Downloading jupyter_client-8.6.3-py3-none-any.whl.metadata (8.3 kB)\n",
            "Collecting jupyter-core!=5.0.*,>=4.12 (from jupyter-server<3,>=2.4.0->notebook)\n",
            "  Downloading jupyter_core-5.7.2-py3-none-any.whl.metadata (3.4 kB)\n",
            "Collecting jupyter-events>=0.9.0 (from jupyter-server<3,>=2.4.0->notebook)\n",
            "  Downloading jupyter_events-0.10.0-py3-none-any.whl.metadata (5.9 kB)\n",
            "Collecting jupyter-server-terminals>=0.4.4 (from jupyter-server<3,>=2.4.0->notebook)\n",
            "  Downloading jupyter_server_terminals-0.5.3-py3-none-any.whl.metadata (5.6 kB)\n",
            "Collecting nbconvert>=6.4.4 (from jupyter-server<3,>=2.4.0->notebook)\n",
            "  Downloading nbconvert-7.16.4-py3-none-any.whl.metadata (8.5 kB)\n",
            "Collecting nbformat>=5.3.0 (from jupyter-server<3,>=2.4.0->notebook)\n",
            "  Downloading nbformat-5.10.4-py3-none-any.whl.metadata (3.6 kB)\n",
            "Collecting overrides>=5.0 (from jupyter-server<3,>=2.4.0->notebook)\n",
            "  Downloading overrides-7.7.0-py3-none-any.whl.metadata (5.8 kB)\n",
            "Collecting prometheus-client>=0.9 (from jupyter-server<3,>=2.4.0->notebook)\n",
            "  Downloading prometheus_client-0.21.0-py3-none-any.whl.metadata (1.8 kB)\n",
            "Collecting pyzmq>=24 (from jupyter-server<3,>=2.4.0->notebook)\n",
            "  Downloading pyzmq-26.2.0-cp310-cp310-manylinux_2_28_x86_64.whl.metadata (6.2 kB)\n",
            "Collecting send2trash>=1.8.2 (from jupyter-server<3,>=2.4.0->notebook)\n",
            "  Downloading Send2Trash-1.8.3-py3-none-any.whl.metadata (4.0 kB)\n",
            "Collecting terminado>=0.8.3 (from jupyter-server<3,>=2.4.0->notebook)\n",
            "  Downloading terminado-0.18.1-py3-none-any.whl.metadata (5.8 kB)\n",
            "Collecting traitlets>=5.6.0 (from jupyter-server<3,>=2.4.0->notebook)\n",
            "  Downloading traitlets-5.14.3-py3-none-any.whl.metadata (10 kB)\n",
            "Collecting websocket-client>=1.7 (from jupyter-server<3,>=2.4.0->notebook)\n",
            "  Downloading websocket_client-1.8.0-py3-none-any.whl.metadata (8.0 kB)\n",
            "Collecting MarkupSafe>=2.0 (from jinja2->torch)\n",
            "  Downloading MarkupSafe-3.0.2-cp310-cp310-manylinux_2_17_x86_64.manylinux2014_x86_64.whl.metadata (4.0 kB)\n",
            "Collecting async-lru>=1.0.0 (from jupyterlab<4.3,>=4.2.0->notebook)\n",
            "  Downloading async_lru-2.0.4-py3-none-any.whl.metadata (4.5 kB)\n",
            "Collecting httpx>=0.25.0 (from jupyterlab<4.3,>=4.2.0->notebook)\n",
            "  Downloading httpx-0.28.0-py3-none-any.whl.metadata (7.1 kB)\n",
            "Collecting ipykernel>=6.5.0 (from jupyterlab<4.3,>=4.2.0->notebook)\n",
            "  Downloading ipykernel-6.29.5-py3-none-any.whl.metadata (6.3 kB)\n",
            "Collecting jupyter-lsp>=2.0.0 (from jupyterlab<4.3,>=4.2.0->notebook)\n",
            "  Downloading jupyter_lsp-2.2.5-py3-none-any.whl.metadata (1.8 kB)\n",
            "Collecting tomli>=1.2.2 (from jupyterlab<4.3,>=4.2.0->notebook)\n",
            "  Downloading tomli-2.2.1-py3-none-any.whl.metadata (10 kB)\n",
            "Collecting babel>=2.10 (from jupyterlab-server<3,>=2.27.1->notebook)\n",
            "  Downloading babel-2.16.0-py3-none-any.whl.metadata (1.5 kB)\n",
            "Collecting json5>=0.9.0 (from jupyterlab-server<3,>=2.27.1->notebook)\n",
            "  Downloading json5-0.10.0-py3-none-any.whl.metadata (34 kB)\n",
            "Collecting jsonschema>=4.18.0 (from jupyterlab-server<3,>=2.27.1->notebook)\n",
            "  Downloading jsonschema-4.23.0-py3-none-any.whl.metadata (7.9 kB)\n",
            "Collecting charset-normalizer<4,>=2 (from requests<3,>=2.21.0->tensorflow)\n",
            "  Downloading charset_normalizer-3.4.0-cp310-cp310-manylinux_2_17_x86_64.manylinux2014_x86_64.whl.metadata (34 kB)\n",
            "Collecting idna<4,>=2.5 (from requests<3,>=2.21.0->tensorflow)\n",
            "  Downloading idna-3.10-py3-none-any.whl.metadata (10 kB)\n",
            "Collecting urllib3<3,>=1.21.1 (from requests<3,>=2.21.0->tensorflow)\n",
            "  Downloading urllib3-2.2.3-py3-none-any.whl.metadata (6.5 kB)\n",
            "Collecting certifi>=2017.4.17 (from requests<3,>=2.21.0->tensorflow)\n",
            "  Downloading certifi-2024.8.30-py3-none-any.whl.metadata (2.2 kB)\n",
            "Collecting markdown>=2.6.8 (from tensorboard<2.19,>=2.18->tensorflow)\n",
            "  Downloading Markdown-3.7-py3-none-any.whl.metadata (7.0 kB)\n",
            "Collecting tensorboard-data-server<0.8.0,>=0.7.0 (from tensorboard<2.19,>=2.18->tensorflow)\n",
            "  Downloading tensorboard_data_server-0.7.2-py3-none-manylinux_2_31_x86_64.whl.metadata (1.1 kB)\n",
            "Collecting werkzeug>=1.0.1 (from tensorboard<2.19,>=2.18->tensorflow)\n",
            "  Downloading werkzeug-3.1.3-py3-none-any.whl.metadata (3.7 kB)\n",
            "Collecting markdown-it-py>=2.2.0 (from rich->keras)\n",
            "  Downloading markdown_it_py-3.0.0-py3-none-any.whl.metadata (6.9 kB)\n",
            "Collecting pygments<3.0.0,>=2.13.0 (from rich->keras)\n",
            "  Downloading pygments-2.18.0-py3-none-any.whl.metadata (2.5 kB)\n",
            "Collecting sniffio>=1.1 (from anyio>=3.1.0->jupyter-server<3,>=2.4.0->notebook)\n",
            "  Downloading sniffio-1.3.1-py3-none-any.whl.metadata (3.9 kB)\n",
            "Collecting exceptiongroup>=1.0.2 (from anyio>=3.1.0->jupyter-server<3,>=2.4.0->notebook)\n",
            "  Downloading exceptiongroup-1.2.2-py3-none-any.whl.metadata (6.6 kB)\n",
            "Collecting argon2-cffi-bindings (from argon2-cffi>=21.1->jupyter-server<3,>=2.4.0->notebook)\n",
            "  Downloading argon2_cffi_bindings-21.2.0-cp36-abi3-manylinux_2_17_x86_64.manylinux2014_x86_64.whl.metadata (6.7 kB)\n",
            "Collecting httpcore==1.* (from httpx>=0.25.0->jupyterlab<4.3,>=4.2.0->notebook)\n",
            "  Downloading httpcore-1.0.7-py3-none-any.whl.metadata (21 kB)\n",
            "Collecting h11<0.15,>=0.13 (from httpcore==1.*->httpx>=0.25.0->jupyterlab<4.3,>=4.2.0->notebook)\n",
            "  Downloading h11-0.14.0-py3-none-any.whl.metadata (8.2 kB)\n",
            "Collecting comm>=0.1.1 (from ipykernel>=6.5.0->jupyterlab<4.3,>=4.2.0->notebook)\n",
            "  Downloading comm-0.2.2-py3-none-any.whl.metadata (3.7 kB)\n",
            "Collecting debugpy>=1.6.5 (from ipykernel>=6.5.0->jupyterlab<4.3,>=4.2.0->notebook)\n",
            "  Downloading debugpy-1.8.9-cp310-cp310-manylinux_2_5_x86_64.manylinux1_x86_64.manylinux_2_17_x86_64.manylinux2014_x86_64.whl.metadata (1.1 kB)\n",
            "Collecting ipython>=7.23.1 (from ipykernel>=6.5.0->jupyterlab<4.3,>=4.2.0->notebook)\n",
            "  Downloading ipython-8.30.0-py3-none-any.whl.metadata (4.9 kB)\n",
            "Collecting matplotlib-inline>=0.1 (from ipykernel>=6.5.0->jupyterlab<4.3,>=4.2.0->notebook)\n",
            "  Downloading matplotlib_inline-0.1.7-py3-none-any.whl.metadata (3.9 kB)\n",
            "Collecting nest-asyncio (from ipykernel>=6.5.0->jupyterlab<4.3,>=4.2.0->notebook)\n",
            "  Downloading nest_asyncio-1.6.0-py3-none-any.whl.metadata (2.8 kB)\n",
            "Collecting psutil (from ipykernel>=6.5.0->jupyterlab<4.3,>=4.2.0->notebook)\n",
            "  Downloading psutil-6.1.0-cp36-abi3-manylinux_2_12_x86_64.manylinux2010_x86_64.manylinux_2_17_x86_64.manylinux2014_x86_64.whl.metadata (22 kB)\n",
            "Collecting attrs>=22.2.0 (from jsonschema>=4.18.0->jupyterlab-server<3,>=2.27.1->notebook)\n",
            "  Downloading attrs-24.2.0-py3-none-any.whl.metadata (11 kB)\n",
            "Collecting jsonschema-specifications>=2023.03.6 (from jsonschema>=4.18.0->jupyterlab-server<3,>=2.27.1->notebook)\n",
            "  Downloading jsonschema_specifications-2024.10.1-py3-none-any.whl.metadata (3.0 kB)\n",
            "Collecting referencing>=0.28.4 (from jsonschema>=4.18.0->jupyterlab-server<3,>=2.27.1->notebook)\n",
            "  Downloading referencing-0.35.1-py3-none-any.whl.metadata (2.8 kB)\n",
            "Collecting rpds-py>=0.7.1 (from jsonschema>=4.18.0->jupyterlab-server<3,>=2.27.1->notebook)\n",
            "  Downloading rpds_py-0.21.0-cp310-cp310-manylinux_2_17_x86_64.manylinux2014_x86_64.whl.metadata (4.2 kB)\n",
            "Collecting platformdirs>=2.5 (from jupyter-core!=5.0.*,>=4.12->jupyter-server<3,>=2.4.0->notebook)\n",
            "  Downloading platformdirs-4.3.6-py3-none-any.whl.metadata (11 kB)\n",
            "Collecting python-json-logger>=2.0.4 (from jupyter-events>=0.9.0->jupyter-server<3,>=2.4.0->notebook)\n",
            "  Downloading python_json_logger-2.0.7-py3-none-any.whl.metadata (6.5 kB)\n",
            "Collecting pyyaml>=5.3 (from jupyter-events>=0.9.0->jupyter-server<3,>=2.4.0->notebook)\n",
            "  Downloading PyYAML-6.0.2-cp310-cp310-manylinux_2_17_x86_64.manylinux2014_x86_64.whl.metadata (2.1 kB)\n",
            "Collecting rfc3339-validator (from jupyter-events>=0.9.0->jupyter-server<3,>=2.4.0->notebook)\n",
            "  Downloading rfc3339_validator-0.1.4-py2.py3-none-any.whl.metadata (1.5 kB)\n",
            "Collecting rfc3986-validator>=0.1.1 (from jupyter-events>=0.9.0->jupyter-server<3,>=2.4.0->notebook)\n",
            "  Downloading rfc3986_validator-0.1.1-py2.py3-none-any.whl.metadata (1.7 kB)\n",
            "Collecting mdurl~=0.1 (from markdown-it-py>=2.2.0->rich->keras)\n",
            "  Downloading mdurl-0.1.2-py3-none-any.whl.metadata (1.6 kB)\n",
            "Collecting beautifulsoup4 (from nbconvert>=6.4.4->jupyter-server<3,>=2.4.0->notebook)\n",
            "  Downloading beautifulsoup4-4.12.3-py3-none-any.whl.metadata (3.8 kB)\n",
            "Collecting bleach!=5.0.0 (from nbconvert>=6.4.4->jupyter-server<3,>=2.4.0->notebook)\n",
            "  Downloading bleach-6.2.0-py3-none-any.whl.metadata (30 kB)\n",
            "Collecting defusedxml (from nbconvert>=6.4.4->jupyter-server<3,>=2.4.0->notebook)\n",
            "  Downloading defusedxml-0.7.1-py2.py3-none-any.whl.metadata (32 kB)\n",
            "Collecting jupyterlab-pygments (from nbconvert>=6.4.4->jupyter-server<3,>=2.4.0->notebook)\n",
            "  Downloading jupyterlab_pygments-0.3.0-py3-none-any.whl.metadata (4.4 kB)\n",
            "Collecting mistune<4,>=2.0.3 (from nbconvert>=6.4.4->jupyter-server<3,>=2.4.0->notebook)\n",
            "  Downloading mistune-3.0.2-py3-none-any.whl.metadata (1.7 kB)\n",
            "Collecting nbclient>=0.5.0 (from nbconvert>=6.4.4->jupyter-server<3,>=2.4.0->notebook)\n",
            "  Downloading nbclient-0.10.1-py3-none-any.whl.metadata (8.2 kB)\n",
            "Collecting pandocfilters>=1.4.1 (from nbconvert>=6.4.4->jupyter-server<3,>=2.4.0->notebook)\n",
            "  Downloading pandocfilters-1.5.1-py2.py3-none-any.whl.metadata (9.0 kB)\n",
            "Collecting tinycss2 (from nbconvert>=6.4.4->jupyter-server<3,>=2.4.0->notebook)\n",
            "  Downloading tinycss2-1.4.0-py3-none-any.whl.metadata (3.0 kB)\n",
            "Collecting fastjsonschema>=2.15 (from nbformat>=5.3.0->jupyter-server<3,>=2.4.0->notebook)\n",
            "  Downloading fastjsonschema-2.21.1-py3-none-any.whl.metadata (2.2 kB)\n",
            "Collecting ptyprocess (from terminado>=0.8.3->jupyter-server<3,>=2.4.0->notebook)\n",
            "  Downloading ptyprocess-0.7.0-py2.py3-none-any.whl.metadata (1.3 kB)\n",
            "Collecting webencodings (from bleach!=5.0.0->nbconvert>=6.4.4->jupyter-server<3,>=2.4.0->notebook)\n",
            "  Downloading webencodings-0.5.1-py2.py3-none-any.whl.metadata (2.1 kB)\n",
            "Collecting decorator (from ipython>=7.23.1->ipykernel>=6.5.0->jupyterlab<4.3,>=4.2.0->notebook)\n",
            "  Downloading decorator-5.1.1-py3-none-any.whl.metadata (4.0 kB)\n",
            "Collecting jedi>=0.16 (from ipython>=7.23.1->ipykernel>=6.5.0->jupyterlab<4.3,>=4.2.0->notebook)\n",
            "  Downloading jedi-0.19.2-py2.py3-none-any.whl.metadata (22 kB)\n",
            "Collecting pexpect>4.3 (from ipython>=7.23.1->ipykernel>=6.5.0->jupyterlab<4.3,>=4.2.0->notebook)\n",
            "  Downloading pexpect-4.9.0-py2.py3-none-any.whl.metadata (2.5 kB)\n",
            "Collecting prompt_toolkit<3.1.0,>=3.0.41 (from ipython>=7.23.1->ipykernel>=6.5.0->jupyterlab<4.3,>=4.2.0->notebook)\n",
            "  Downloading prompt_toolkit-3.0.48-py3-none-any.whl.metadata (6.4 kB)\n",
            "Collecting stack_data (from ipython>=7.23.1->ipykernel>=6.5.0->jupyterlab<4.3,>=4.2.0->notebook)\n",
            "  Downloading stack_data-0.6.3-py3-none-any.whl.metadata (18 kB)\n",
            "Collecting fqdn (from jsonschema[format-nongpl]>=4.18.0->jupyter-events>=0.9.0->jupyter-server<3,>=2.4.0->notebook)\n",
            "  Downloading fqdn-1.5.1-py3-none-any.whl.metadata (1.4 kB)\n",
            "Collecting isoduration (from jsonschema[format-nongpl]>=4.18.0->jupyter-events>=0.9.0->jupyter-server<3,>=2.4.0->notebook)\n",
            "  Downloading isoduration-20.11.0-py3-none-any.whl.metadata (5.7 kB)\n",
            "Collecting jsonpointer>1.13 (from jsonschema[format-nongpl]>=4.18.0->jupyter-events>=0.9.0->jupyter-server<3,>=2.4.0->notebook)\n",
            "  Downloading jsonpointer-3.0.0-py2.py3-none-any.whl.metadata (2.3 kB)\n",
            "Collecting uri-template (from jsonschema[format-nongpl]>=4.18.0->jupyter-events>=0.9.0->jupyter-server<3,>=2.4.0->notebook)\n",
            "  Downloading uri_template-1.3.0-py3-none-any.whl.metadata (8.8 kB)\n",
            "Collecting webcolors>=24.6.0 (from jsonschema[format-nongpl]>=4.18.0->jupyter-events>=0.9.0->jupyter-server<3,>=2.4.0->notebook)\n",
            "  Downloading webcolors-24.11.1-py3-none-any.whl.metadata (2.2 kB)\n",
            "Collecting cffi>=1.0.1 (from argon2-cffi-bindings->argon2-cffi>=21.1->jupyter-server<3,>=2.4.0->notebook)\n",
            "  Downloading cffi-1.17.1-cp310-cp310-manylinux_2_17_x86_64.manylinux2014_x86_64.whl.metadata (1.5 kB)\n",
            "Collecting soupsieve>1.2 (from beautifulsoup4->nbconvert>=6.4.4->jupyter-server<3,>=2.4.0->notebook)\n",
            "  Downloading soupsieve-2.6-py3-none-any.whl.metadata (4.6 kB)\n",
            "Collecting pycparser (from cffi>=1.0.1->argon2-cffi-bindings->argon2-cffi>=21.1->jupyter-server<3,>=2.4.0->notebook)\n",
            "  Downloading pycparser-2.22-py3-none-any.whl.metadata (943 bytes)\n",
            "Collecting parso<0.9.0,>=0.8.4 (from jedi>=0.16->ipython>=7.23.1->ipykernel>=6.5.0->jupyterlab<4.3,>=4.2.0->notebook)\n",
            "  Downloading parso-0.8.4-py2.py3-none-any.whl.metadata (7.7 kB)\n",
            "Collecting wcwidth (from prompt_toolkit<3.1.0,>=3.0.41->ipython>=7.23.1->ipykernel>=6.5.0->jupyterlab<4.3,>=4.2.0->notebook)\n",
            "  Downloading wcwidth-0.2.13-py2.py3-none-any.whl.metadata (14 kB)\n",
            "Collecting arrow>=0.15.0 (from isoduration->jsonschema[format-nongpl]>=4.18.0->jupyter-events>=0.9.0->jupyter-server<3,>=2.4.0->notebook)\n",
            "  Downloading arrow-1.3.0-py3-none-any.whl.metadata (7.5 kB)\n",
            "Collecting executing>=1.2.0 (from stack_data->ipython>=7.23.1->ipykernel>=6.5.0->jupyterlab<4.3,>=4.2.0->notebook)\n",
            "  Downloading executing-2.1.0-py2.py3-none-any.whl.metadata (8.9 kB)\n",
            "Collecting asttokens>=2.1.0 (from stack_data->ipython>=7.23.1->ipykernel>=6.5.0->jupyterlab<4.3,>=4.2.0->notebook)\n",
            "  Downloading asttokens-3.0.0-py3-none-any.whl.metadata (4.7 kB)\n",
            "Collecting pure-eval (from stack_data->ipython>=7.23.1->ipykernel>=6.5.0->jupyterlab<4.3,>=4.2.0->notebook)\n",
            "  Downloading pure_eval-0.2.3-py3-none-any.whl.metadata (6.3 kB)\n",
            "Collecting types-python-dateutil>=2.8.10 (from arrow>=0.15.0->isoduration->jsonschema[format-nongpl]>=4.18.0->jupyter-events>=0.9.0->jupyter-server<3,>=2.4.0->notebook)\n",
            "  Downloading types_python_dateutil-2.9.0.20241003-py3-none-any.whl.metadata (1.9 kB)\n",
            "Downloading pandas-2.2.3-cp310-cp310-manylinux_2_17_x86_64.manylinux2014_x86_64.whl (13.1 MB)\n",
            "\u001b[2K   \u001b[90m━━━━━━━━━━━━━━━━━━━━━━━━━━━━━━━━━━━━━━━━\u001b[0m \u001b[32m13.1/13.1 MB\u001b[0m \u001b[31m102.5 MB/s\u001b[0m eta \u001b[36m0:00:00\u001b[0m\n",
            "\u001b[?25hDownloading matplotlib-3.9.3-cp310-cp310-manylinux_2_17_x86_64.manylinux2014_x86_64.whl (8.3 MB)\n",
            "\u001b[2K   \u001b[90m━━━━━━━━━━━━━━━━━━━━━━━━━━━━━━━━━━━━━━━━\u001b[0m \u001b[32m8.3/8.3 MB\u001b[0m \u001b[31m111.4 MB/s\u001b[0m eta \u001b[36m0:00:00\u001b[0m\n",
            "\u001b[?25hDownloading seaborn-0.13.2-py3-none-any.whl (294 kB)\n",
            "Downloading scikit_learn-1.5.2-cp310-cp310-manylinux_2_17_x86_64.manylinux2014_x86_64.whl (13.3 MB)\n",
            "\u001b[2K   \u001b[90m━━━━━━━━━━━━━━━━━━━━━━━━━━━━━━━━━━━━━━━━\u001b[0m \u001b[32m13.3/13.3 MB\u001b[0m \u001b[31m107.6 MB/s\u001b[0m eta \u001b[36m0:00:00\u001b[0m\n",
            "\u001b[?25hDownloading tensorflow-2.18.0-cp310-cp310-manylinux_2_17_x86_64.manylinux2014_x86_64.whl (615.3 MB)\n",
            "\u001b[2K   \u001b[90m━━━━━━━━━━━━━━━━━━━━━━━━━━━━━━━━━━━━━━━━\u001b[0m \u001b[32m615.3/615.3 MB\u001b[0m \u001b[31m31.9 MB/s\u001b[0m eta \u001b[36m0:00:00\u001b[0m\n",
            "\u001b[?25hDownloading numpy-2.0.2-cp310-cp310-manylinux_2_17_x86_64.manylinux2014_x86_64.whl (19.5 MB)\n",
            "\u001b[2K   \u001b[90m━━━━━━━━━━━━━━━━━━━━━━━━━━━━━━━━━━━━━━━━\u001b[0m \u001b[32m19.5/19.5 MB\u001b[0m \u001b[31m142.2 MB/s\u001b[0m eta \u001b[36m0:00:00\u001b[0m\n",
            "\u001b[?25hDownloading keras-3.7.0-py3-none-any.whl (1.2 MB)\n",
            "\u001b[2K   \u001b[90m━━━━━━━━━━━━━━━━━━━━━━━━━━━━━━━━━━━━━━━━\u001b[0m \u001b[32m1.2/1.2 MB\u001b[0m \u001b[31m48.3 MB/s\u001b[0m eta \u001b[36m0:00:00\u001b[0m\n",
            "\u001b[?25hDownloading torch-2.5.1-cp310-cp310-manylinux1_x86_64.whl (906.4 MB)\n",
            "\u001b[2K   \u001b[90m━━━━━━━━━━━━━━━━━━━━━━━━━━━━━━━━━━━━━━━━\u001b[0m \u001b[32m906.4/906.4 MB\u001b[0m \u001b[31m23.5 MB/s\u001b[0m eta \u001b[36m0:00:00\u001b[0m\n",
            "\u001b[?25hDownloading nvidia_cublas_cu12-12.4.5.8-py3-none-manylinux2014_x86_64.whl (363.4 MB)\n",
            "\u001b[2K   \u001b[90m━━━━━━━━━━━━━━━━━━━━━━━━━━━━━━━━━━━━━━━━\u001b[0m \u001b[32m363.4/363.4 MB\u001b[0m \u001b[31m59.5 MB/s\u001b[0m eta \u001b[36m0:00:00\u001b[0m\n",
            "\u001b[?25hDownloading nvidia_cuda_cupti_cu12-12.4.127-py3-none-manylinux2014_x86_64.whl (13.8 MB)\n",
            "\u001b[2K   \u001b[90m━━━━━━━━━━━━━━━━━━━━━━━━━━━━━━━━━━━━━━━━\u001b[0m \u001b[32m13.8/13.8 MB\u001b[0m \u001b[31m120.0 MB/s\u001b[0m eta \u001b[36m0:00:00\u001b[0m\n",
            "\u001b[?25hDownloading nvidia_cuda_nvrtc_cu12-12.4.127-py3-none-manylinux2014_x86_64.whl (24.6 MB)\n",
            "\u001b[2K   \u001b[90m━━━━━━━━━━━━━━━━━━━━━━━━━━━━━━━━━━━━━━━━\u001b[0m \u001b[32m24.6/24.6 MB\u001b[0m \u001b[31m107.6 MB/s\u001b[0m eta \u001b[36m0:00:00\u001b[0m\n",
            "\u001b[?25hDownloading nvidia_cuda_runtime_cu12-12.4.127-py3-none-manylinux2014_x86_64.whl (883 kB)\n",
            "\u001b[2K   \u001b[90m━━━━━━━━━━━━━━━━━━━━━━━━━━━━━━━━━━━━━━━━\u001b[0m \u001b[32m883.7/883.7 kB\u001b[0m \u001b[31m33.4 MB/s\u001b[0m eta \u001b[36m0:00:00\u001b[0m\n",
            "\u001b[?25hDownloading nvidia_cudnn_cu12-9.1.0.70-py3-none-manylinux2014_x86_64.whl (664.8 MB)\n",
            "\u001b[2K   \u001b[90m━━━━━━━━━━━━━━━━━━━━━━━━━━━━━━━━━━━━━━━━\u001b[0m \u001b[32m664.8/664.8 MB\u001b[0m \u001b[31m26.6 MB/s\u001b[0m eta \u001b[36m0:00:00\u001b[0m\n",
            "\u001b[?25hDownloading nvidia_cufft_cu12-11.2.1.3-py3-none-manylinux2014_x86_64.whl (211.5 MB)\n",
            "\u001b[2K   \u001b[90m━━━━━━━━━━━━━━━━━━━━━━━━━━━━━━━━━━━━━━━━\u001b[0m \u001b[32m211.5/211.5 MB\u001b[0m \u001b[31m28.7 MB/s\u001b[0m eta \u001b[36m0:00:00\u001b[0m\n",
            "\u001b[?25hDownloading nvidia_curand_cu12-10.3.5.147-py3-none-manylinux2014_x86_64.whl (56.3 MB)\n",
            "\u001b[2K   \u001b[90m━━━━━━━━━━━━━━━━━━━━━━━━━━━━━━━━━━━━━━━━\u001b[0m \u001b[32m56.3/56.3 MB\u001b[0m \u001b[31m73.5 MB/s\u001b[0m eta \u001b[36m0:00:00\u001b[0m\n",
            "\u001b[?25hDownloading nvidia_cusolver_cu12-11.6.1.9-py3-none-manylinux2014_x86_64.whl (127.9 MB)\n",
            "\u001b[2K   \u001b[90m━━━━━━━━━━━━━━━━━━━━━━━━━━━━━━━━━━━━━━━━\u001b[0m \u001b[32m127.9/127.9 MB\u001b[0m \u001b[31m43.4 MB/s\u001b[0m eta \u001b[36m0:00:00\u001b[0m\n",
            "\u001b[?25hDownloading nvidia_cusparse_cu12-12.3.1.170-py3-none-manylinux2014_x86_64.whl (207.5 MB)\n",
            "\u001b[2K   \u001b[90m━━━━━━━━━━━━━━━━━━━━━━━━━━━━━━━━━━━━━━━━\u001b[0m \u001b[32m207.5/207.5 MB\u001b[0m \u001b[31m71.3 MB/s\u001b[0m eta \u001b[36m0:00:00\u001b[0m\n",
            "\u001b[?25hDownloading nvidia_nccl_cu12-2.21.5-py3-none-manylinux2014_x86_64.whl (188.7 MB)\n",
            "\u001b[2K   \u001b[90m━━━━━━━━━━━━━━━━━━━━━━━━━━━━━━━━━━━━━━━━\u001b[0m \u001b[32m188.7/188.7 MB\u001b[0m \u001b[31m68.6 MB/s\u001b[0m eta \u001b[36m0:00:00\u001b[0m\n",
            "\u001b[?25hDownloading nvidia_nvjitlink_cu12-12.4.127-py3-none-manylinux2014_x86_64.whl (21.1 MB)\n",
            "\u001b[2K   \u001b[90m━━━━━━━━━━━━━━━━━━━━━━━━━━━━━━━━━━━━━━━━\u001b[0m \u001b[32m21.1/21.1 MB\u001b[0m \u001b[31m102.0 MB/s\u001b[0m eta \u001b[36m0:00:00\u001b[0m\n",
            "\u001b[?25hDownloading nvidia_nvtx_cu12-12.4.127-py3-none-manylinux2014_x86_64.whl (99 kB)\n",
            "Downloading sympy-1.13.1-py3-none-any.whl (6.2 MB)\n",
            "\u001b[2K   \u001b[90m━━━━━━━━━━━━━━━━━━━━━━━━━━━━━━━━━━━━━━━━\u001b[0m \u001b[32m6.2/6.2 MB\u001b[0m \u001b[31m83.6 MB/s\u001b[0m eta \u001b[36m0:00:00\u001b[0m\n",
            "\u001b[?25hDownloading triton-3.1.0-cp310-cp310-manylinux_2_17_x86_64.manylinux2014_x86_64.whl (209.5 MB)\n",
            "\u001b[2K   \u001b[90m━━━━━━━━━━━━━━━━━━━━━━━━━━━━━━━━━━━━━━━━\u001b[0m \u001b[32m209.5/209.5 MB\u001b[0m \u001b[31m44.5 MB/s\u001b[0m eta \u001b[36m0:00:00\u001b[0m\n",
            "\u001b[?25hDownloading notebook-7.2.2-py3-none-any.whl (5.0 MB)\n",
            "\u001b[2K   \u001b[90m━━━━━━━━━━━━━━━━━━━━━━━━━━━━━━━━━━━━━━━━\u001b[0m \u001b[32m5.0/5.0 MB\u001b[0m \u001b[31m37.9 MB/s\u001b[0m eta \u001b[36m0:00:00\u001b[0m\n",
            "\u001b[?25hDownloading absl_py-2.1.0-py3-none-any.whl (133 kB)\n",
            "Downloading astunparse-1.6.3-py2.py3-none-any.whl (12 kB)\n",
            "Downloading contourpy-1.3.1-cp310-cp310-manylinux_2_17_x86_64.manylinux2014_x86_64.whl (324 kB)\n",
            "Downloading cycler-0.12.1-py3-none-any.whl (8.3 kB)\n",
            "Downloading flatbuffers-24.3.25-py2.py3-none-any.whl (26 kB)\n",
            "Downloading fonttools-4.55.0-cp310-cp310-manylinux_2_17_x86_64.manylinux2014_x86_64.whl (4.6 MB)\n",
            "\u001b[2K   \u001b[90m━━━━━━━━━━━━━━━━━━━━━━━━━━━━━━━━━━━━━━━━\u001b[0m \u001b[32m4.6/4.6 MB\u001b[0m \u001b[31m48.6 MB/s\u001b[0m eta \u001b[36m0:00:00\u001b[0m\n",
            "\u001b[?25hDownloading gast-0.6.0-py3-none-any.whl (21 kB)\n",
            "Downloading google_pasta-0.2.0-py3-none-any.whl (57 kB)\n",
            "Downloading grpcio-1.68.1-cp310-cp310-manylinux_2_17_x86_64.manylinux2014_x86_64.whl (5.9 MB)\n",
            "\u001b[2K   \u001b[90m━━━━━━━━━━━━━━━━━━━━━━━━━━━━━━━━━━━━━━━━\u001b[0m \u001b[32m5.9/5.9 MB\u001b[0m \u001b[31m54.3 MB/s\u001b[0m eta \u001b[36m0:00:00\u001b[0m\n",
            "\u001b[?25hDownloading h5py-3.12.1-cp310-cp310-manylinux_2_17_x86_64.manylinux2014_x86_64.whl (5.3 MB)\n",
            "\u001b[2K   \u001b[90m━━━━━━━━━━━━━━━━━━━━━━━━━━━━━━━━━━━━━━━━\u001b[0m \u001b[32m5.3/5.3 MB\u001b[0m \u001b[31m50.1 MB/s\u001b[0m eta \u001b[36m0:00:00\u001b[0m\n",
            "\u001b[?25hDownloading joblib-1.4.2-py3-none-any.whl (301 kB)\n",
            "Downloading jupyter_server-2.14.2-py3-none-any.whl (383 kB)\n",
            "Downloading jinja2-3.1.4-py3-none-any.whl (133 kB)\n",
            "Downloading jupyterlab-4.2.6-py3-none-any.whl (11.6 MB)\n",
            "\u001b[2K   \u001b[90m━━━━━━━━━━━━━━━━━━━━━━━━━━━━━━━━━━━━━━━━\u001b[0m \u001b[32m11.6/11.6 MB\u001b[0m \u001b[31m53.8 MB/s\u001b[0m eta \u001b[36m0:00:00\u001b[0m\n",
            "\u001b[?25hDownloading jupyterlab_server-2.27.3-py3-none-any.whl (59 kB)\n",
            "Downloading kiwisolver-1.4.7-cp310-cp310-manylinux_2_12_x86_64.manylinux2010_x86_64.whl (1.6 MB)\n",
            "\u001b[2K   \u001b[90m━━━━━━━━━━━━━━━━━━━━━━━━━━━━━━━━━━━━━━━━\u001b[0m \u001b[32m1.6/1.6 MB\u001b[0m \u001b[31m47.2 MB/s\u001b[0m eta \u001b[36m0:00:00\u001b[0m\n",
            "\u001b[?25hDownloading libclang-18.1.1-py2.py3-none-manylinux2010_x86_64.whl (24.5 MB)\n",
            "\u001b[2K   \u001b[90m━━━━━━━━━━━━━━━━━━━━━━━━━━━━━━━━━━━━━━━━\u001b[0m \u001b[32m24.5/24.5 MB\u001b[0m \u001b[31m38.1 MB/s\u001b[0m eta \u001b[36m0:00:00\u001b[0m\n",
            "\u001b[?25hDownloading ml_dtypes-0.4.1-cp310-cp310-manylinux_2_17_x86_64.manylinux2014_x86_64.whl (2.2 MB)\n",
            "\u001b[2K   \u001b[90m━━━━━━━━━━━━━━━━━━━━━━━━━━━━━━━━━━━━━━━━\u001b[0m \u001b[32m2.2/2.2 MB\u001b[0m \u001b[31m59.2 MB/s\u001b[0m eta \u001b[36m0:00:00\u001b[0m\n",
            "\u001b[?25hDownloading notebook_shim-0.2.4-py3-none-any.whl (13 kB)\n",
            "Downloading opt_einsum-3.4.0-py3-none-any.whl (71 kB)\n",
            "Downloading packaging-24.2-py3-none-any.whl (65 kB)\n",
            "Downloading pillow-11.0.0-cp310-cp310-manylinux_2_28_x86_64.whl (4.4 MB)\n",
            "\u001b[2K   \u001b[90m━━━━━━━━━━━━━━━━━━━━━━━━━━━━━━━━━━━━━━━━\u001b[0m \u001b[32m4.4/4.4 MB\u001b[0m \u001b[31m47.0 MB/s\u001b[0m eta \u001b[36m0:00:00\u001b[0m\n",
            "\u001b[?25hDownloading protobuf-5.29.0-cp38-abi3-manylinux2014_x86_64.whl (319 kB)\n",
            "Downloading pyparsing-3.2.0-py3-none-any.whl (106 kB)\n",
            "Downloading python_dateutil-2.9.0.post0-py2.py3-none-any.whl (229 kB)\n",
            "Downloading pytz-2024.2-py2.py3-none-any.whl (508 kB)\n",
            "Downloading requests-2.32.3-py3-none-any.whl (64 kB)\n",
            "Downloading scipy-1.14.1-cp310-cp310-manylinux_2_17_x86_64.manylinux2014_x86_64.whl (41.2 MB)\n",
            "\u001b[2K   \u001b[90m━━━━━━━━━━━━━━━━━━━━━━━━━━━━━━━━━━━━━━━━\u001b[0m \u001b[32m41.2/41.2 MB\u001b[0m \u001b[31m33.1 MB/s\u001b[0m eta \u001b[36m0:00:00\u001b[0m\n",
            "\u001b[?25hDownloading six-1.16.0-py2.py3-none-any.whl (11 kB)\n",
            "Downloading tensorboard-2.18.0-py3-none-any.whl (5.5 MB)\n",
            "\u001b[2K   \u001b[90m━━━━━━━━━━━━━━━━━━━━━━━━━━━━━━━━━━━━━━━━\u001b[0m \u001b[32m5.5/5.5 MB\u001b[0m \u001b[31m98.3 MB/s\u001b[0m eta \u001b[36m0:00:00\u001b[0m\n",
            "\u001b[?25hDownloading tensorflow_io_gcs_filesystem-0.37.1-cp310-cp310-manylinux_2_17_x86_64.manylinux2014_x86_64.whl (5.1 MB)\n",
            "\u001b[2K   \u001b[90m━━━━━━━━━━━━━━━━━━━━━━━━━━━━━━━━━━━━━━━━\u001b[0m \u001b[32m5.1/5.1 MB\u001b[0m \u001b[31m86.3 MB/s\u001b[0m eta \u001b[36m0:00:00\u001b[0m\n",
            "\u001b[?25hDownloading termcolor-2.5.0-py3-none-any.whl (7.8 kB)\n",
            "Downloading threadpoolctl-3.5.0-py3-none-any.whl (18 kB)\n",
            "Downloading tornado-6.4.2-cp38-abi3-manylinux_2_5_x86_64.manylinux1_x86_64.manylinux_2_17_x86_64.manylinux2014_x86_64.whl (437 kB)\n",
            "Downloading typing_extensions-4.12.2-py3-none-any.whl (37 kB)\n",
            "Downloading tzdata-2024.2-py2.py3-none-any.whl (346 kB)\n",
            "Downloading wrapt-1.17.0-cp310-cp310-manylinux_2_5_x86_64.manylinux1_x86_64.manylinux_2_17_x86_64.manylinux2014_x86_64.whl (82 kB)\n",
            "Downloading filelock-3.16.1-py3-none-any.whl (16 kB)\n",
            "Downloading fsspec-2024.10.0-py3-none-any.whl (179 kB)\n",
            "Downloading namex-0.0.8-py3-none-any.whl (5.8 kB)\n",
            "Downloading networkx-3.4.2-py3-none-any.whl (1.7 MB)\n",
            "\u001b[2K   \u001b[90m━━━━━━━━━━━━━━━━━━━━━━━━━━━━━━━━━━━━━━━━\u001b[0m \u001b[32m1.7/1.7 MB\u001b[0m \u001b[31m63.3 MB/s\u001b[0m eta \u001b[36m0:00:00\u001b[0m\n",
            "\u001b[?25hDownloading optree-0.13.1-cp310-cp310-manylinux_2_17_x86_64.manylinux2014_x86_64.whl (381 kB)\n",
            "Downloading rich-13.9.4-py3-none-any.whl (242 kB)\n",
            "Downloading anyio-4.6.2.post1-py3-none-any.whl (90 kB)\n",
            "Downloading argon2_cffi-23.1.0-py3-none-any.whl (15 kB)\n",
            "Downloading async_lru-2.0.4-py3-none-any.whl (6.1 kB)\n",
            "Downloading babel-2.16.0-py3-none-any.whl (9.6 MB)\n",
            "\u001b[2K   \u001b[90m━━━━━━━━━━━━━━━━━━━━━━━━━━━━━━━━━━━━━━━━\u001b[0m \u001b[32m9.6/9.6 MB\u001b[0m \u001b[31m88.1 MB/s\u001b[0m eta \u001b[36m0:00:00\u001b[0m\n",
            "\u001b[?25hDownloading certifi-2024.8.30-py3-none-any.whl (167 kB)\n",
            "Downloading charset_normalizer-3.4.0-cp310-cp310-manylinux_2_17_x86_64.manylinux2014_x86_64.whl (144 kB)\n",
            "Downloading httpx-0.28.0-py3-none-any.whl (73 kB)\n",
            "Downloading httpcore-1.0.7-py3-none-any.whl (78 kB)\n",
            "Downloading idna-3.10-py3-none-any.whl (70 kB)\n",
            "Downloading ipykernel-6.29.5-py3-none-any.whl (117 kB)\n",
            "Downloading json5-0.10.0-py3-none-any.whl (34 kB)\n",
            "Downloading jsonschema-4.23.0-py3-none-any.whl (88 kB)\n",
            "Downloading jupyter_client-8.6.3-py3-none-any.whl (106 kB)\n",
            "Downloading jupyter_core-5.7.2-py3-none-any.whl (28 kB)\n",
            "Downloading jupyter_events-0.10.0-py3-none-any.whl (18 kB)\n",
            "Downloading jupyter_lsp-2.2.5-py3-none-any.whl (69 kB)\n",
            "Downloading jupyter_server_terminals-0.5.3-py3-none-any.whl (13 kB)\n",
            "Downloading Markdown-3.7-py3-none-any.whl (106 kB)\n",
            "Downloading markdown_it_py-3.0.0-py3-none-any.whl (87 kB)\n",
            "Downloading MarkupSafe-3.0.2-cp310-cp310-manylinux_2_17_x86_64.manylinux2014_x86_64.whl (20 kB)\n",
            "Downloading mpmath-1.3.0-py3-none-any.whl (536 kB)\n",
            "\u001b[2K   \u001b[90m━━━━━━━━━━━━━━━━━━━━━━━━━━━━━━━━━━━━━━━━\u001b[0m \u001b[32m536.2/536.2 kB\u001b[0m \u001b[31m16.8 MB/s\u001b[0m eta \u001b[36m0:00:00\u001b[0m\n",
            "\u001b[?25hDownloading nbconvert-7.16.4-py3-none-any.whl (257 kB)\n",
            "Downloading nbformat-5.10.4-py3-none-any.whl (78 kB)\n",
            "Downloading overrides-7.7.0-py3-none-any.whl (17 kB)\n",
            "Downloading prometheus_client-0.21.0-py3-none-any.whl (54 kB)\n",
            "Downloading pygments-2.18.0-py3-none-any.whl (1.2 MB)\n",
            "\u001b[2K   \u001b[90m━━━━━━━━━━━━━━━━━━━━━━━━━━━━━━━━━━━━━━━━\u001b[0m \u001b[32m1.2/1.2 MB\u001b[0m \u001b[31m45.1 MB/s\u001b[0m eta \u001b[36m0:00:00\u001b[0m\n",
            "\u001b[?25hDownloading pyzmq-26.2.0-cp310-cp310-manylinux_2_28_x86_64.whl (868 kB)\n",
            "\u001b[2K   \u001b[90m━━━━━━━━━━━━━━━━━━━━━━━━━━━━━━━━━━━━━━━━\u001b[0m \u001b[32m868.8/868.8 kB\u001b[0m \u001b[31m27.3 MB/s\u001b[0m eta \u001b[36m0:00:00\u001b[0m\n",
            "\u001b[?25hDownloading Send2Trash-1.8.3-py3-none-any.whl (18 kB)\n",
            "Downloading tensorboard_data_server-0.7.2-py3-none-manylinux_2_31_x86_64.whl (6.6 MB)\n",
            "\u001b[2K   \u001b[90m━━━━━━━━━━━━━━━━━━━━━━━━━━━━━━━━━━━━━━━━\u001b[0m \u001b[32m6.6/6.6 MB\u001b[0m \u001b[31m82.2 MB/s\u001b[0m eta \u001b[36m0:00:00\u001b[0m\n",
            "\u001b[?25hDownloading terminado-0.18.1-py3-none-any.whl (14 kB)\n",
            "Downloading tomli-2.2.1-py3-none-any.whl (14 kB)\n",
            "Downloading traitlets-5.14.3-py3-none-any.whl (85 kB)\n",
            "Downloading urllib3-2.2.3-py3-none-any.whl (126 kB)\n",
            "Downloading websocket_client-1.8.0-py3-none-any.whl (58 kB)\n",
            "Downloading werkzeug-3.1.3-py3-none-any.whl (224 kB)\n",
            "Downloading attrs-24.2.0-py3-none-any.whl (63 kB)\n",
            "Downloading bleach-6.2.0-py3-none-any.whl (163 kB)\n",
            "Downloading comm-0.2.2-py3-none-any.whl (7.2 kB)\n",
            "Downloading debugpy-1.8.9-cp310-cp310-manylinux_2_5_x86_64.manylinux1_x86_64.manylinux_2_17_x86_64.manylinux2014_x86_64.whl (3.6 MB)\n",
            "\u001b[2K   \u001b[90m━━━━━━━━━━━━━━━━━━━━━━━━━━━━━━━━━━━━━━━━\u001b[0m \u001b[32m3.6/3.6 MB\u001b[0m \u001b[31m67.4 MB/s\u001b[0m eta \u001b[36m0:00:00\u001b[0m\n",
            "\u001b[?25hDownloading exceptiongroup-1.2.2-py3-none-any.whl (16 kB)\n",
            "Downloading fastjsonschema-2.21.1-py3-none-any.whl (23 kB)\n",
            "Downloading ipython-8.30.0-py3-none-any.whl (820 kB)\n",
            "\u001b[2K   \u001b[90m━━━━━━━━━━━━━━━━━━━━━━━━━━━━━━━━━━━━━━━━\u001b[0m \u001b[32m820.8/820.8 kB\u001b[0m \u001b[31m27.6 MB/s\u001b[0m eta \u001b[36m0:00:00\u001b[0m\n",
            "\u001b[?25hDownloading jsonschema_specifications-2024.10.1-py3-none-any.whl (18 kB)\n",
            "Downloading matplotlib_inline-0.1.7-py3-none-any.whl (9.9 kB)\n",
            "Downloading mdurl-0.1.2-py3-none-any.whl (10.0 kB)\n",
            "Downloading mistune-3.0.2-py3-none-any.whl (47 kB)\n",
            "Downloading nbclient-0.10.1-py3-none-any.whl (25 kB)\n",
            "Downloading pandocfilters-1.5.1-py2.py3-none-any.whl (8.7 kB)\n",
            "Downloading platformdirs-4.3.6-py3-none-any.whl (18 kB)\n",
            "Downloading python_json_logger-2.0.7-py3-none-any.whl (8.1 kB)\n",
            "Downloading PyYAML-6.0.2-cp310-cp310-manylinux_2_17_x86_64.manylinux2014_x86_64.whl (751 kB)\n",
            "\u001b[2K   \u001b[90m━━━━━━━━━━━━━━━━━━━━━━━━━━━━━━━━━━━━━━━━\u001b[0m \u001b[32m751.2/751.2 kB\u001b[0m \u001b[31m25.5 MB/s\u001b[0m eta \u001b[36m0:00:00\u001b[0m\n",
            "\u001b[?25hDownloading referencing-0.35.1-py3-none-any.whl (26 kB)\n",
            "Downloading rfc3986_validator-0.1.1-py2.py3-none-any.whl (4.2 kB)\n",
            "Downloading rpds_py-0.21.0-cp310-cp310-manylinux_2_17_x86_64.manylinux2014_x86_64.whl (360 kB)\n",
            "Downloading sniffio-1.3.1-py3-none-any.whl (10 kB)\n",
            "Downloading argon2_cffi_bindings-21.2.0-cp36-abi3-manylinux_2_17_x86_64.manylinux2014_x86_64.whl (86 kB)\n",
            "Downloading beautifulsoup4-4.12.3-py3-none-any.whl (147 kB)\n",
            "Downloading defusedxml-0.7.1-py2.py3-none-any.whl (25 kB)\n",
            "Downloading jupyterlab_pygments-0.3.0-py3-none-any.whl (15 kB)\n",
            "Downloading nest_asyncio-1.6.0-py3-none-any.whl (5.2 kB)\n",
            "Downloading psutil-6.1.0-cp36-abi3-manylinux_2_12_x86_64.manylinux2010_x86_64.manylinux_2_17_x86_64.manylinux2014_x86_64.whl (287 kB)\n",
            "Downloading ptyprocess-0.7.0-py2.py3-none-any.whl (13 kB)\n",
            "Downloading rfc3339_validator-0.1.4-py2.py3-none-any.whl (3.5 kB)\n",
            "Downloading tinycss2-1.4.0-py3-none-any.whl (26 kB)\n",
            "Downloading cffi-1.17.1-cp310-cp310-manylinux_2_17_x86_64.manylinux2014_x86_64.whl (446 kB)\n",
            "Downloading h11-0.14.0-py3-none-any.whl (58 kB)\n",
            "Downloading jedi-0.19.2-py2.py3-none-any.whl (1.6 MB)\n",
            "\u001b[2K   \u001b[90m━━━━━━━━━━━━━━━━━━━━━━━━━━━━━━━━━━━━━━━━\u001b[0m \u001b[32m1.6/1.6 MB\u001b[0m \u001b[31m49.0 MB/s\u001b[0m eta \u001b[36m0:00:00\u001b[0m\n",
            "\u001b[?25hDownloading jsonpointer-3.0.0-py2.py3-none-any.whl (7.6 kB)\n",
            "Downloading pexpect-4.9.0-py2.py3-none-any.whl (63 kB)\n",
            "Downloading prompt_toolkit-3.0.48-py3-none-any.whl (386 kB)\n",
            "Downloading soupsieve-2.6-py3-none-any.whl (36 kB)\n",
            "Downloading webcolors-24.11.1-py3-none-any.whl (14 kB)\n",
            "Downloading webencodings-0.5.1-py2.py3-none-any.whl (11 kB)\n",
            "Downloading decorator-5.1.1-py3-none-any.whl (9.1 kB)\n",
            "Downloading fqdn-1.5.1-py3-none-any.whl (9.1 kB)\n",
            "Downloading isoduration-20.11.0-py3-none-any.whl (11 kB)\n",
            "Downloading stack_data-0.6.3-py3-none-any.whl (24 kB)\n",
            "Downloading uri_template-1.3.0-py3-none-any.whl (11 kB)\n",
            "Downloading arrow-1.3.0-py3-none-any.whl (66 kB)\n",
            "Downloading asttokens-3.0.0-py3-none-any.whl (26 kB)\n",
            "Downloading executing-2.1.0-py2.py3-none-any.whl (25 kB)\n",
            "Downloading parso-0.8.4-py2.py3-none-any.whl (103 kB)\n",
            "Downloading pure_eval-0.2.3-py3-none-any.whl (11 kB)\n",
            "Downloading pycparser-2.22-py3-none-any.whl (117 kB)\n",
            "Downloading wcwidth-0.2.13-py2.py3-none-any.whl (34 kB)\n",
            "Downloading types_python_dateutil-2.9.0.20241003-py3-none-any.whl (9.7 kB)\n",
            "Installing collected packages: webencodings, wcwidth, pytz, pure-eval, ptyprocess, namex, mpmath, libclang, flatbuffers, fastjsonschema, wrapt, websocket-client, webcolors, urllib3, uri-template, tzdata, typing-extensions, types-python-dateutil, traitlets, tornado, tomli, tinycss2, threadpoolctl, termcolor, tensorflow-io-gcs-filesystem, tensorboard-data-server, sympy, soupsieve, sniffio, six, send2trash, rpds-py, rfc3986-validator, pyzmq, pyyaml, python-json-logger, pyparsing, pygments, pycparser, psutil, protobuf, prompt_toolkit, prometheus-client, platformdirs, pillow, pexpect, parso, pandocfilters, packaging, overrides, opt-einsum, nvidia-nvtx-cu12, nvidia-nvjitlink-cu12, nvidia-nccl-cu12, nvidia-curand-cu12, nvidia-cufft-cu12, nvidia-cuda-runtime-cu12, nvidia-cuda-nvrtc-cu12, nvidia-cuda-cupti-cu12, nvidia-cublas-cu12, numpy, networkx, nest-asyncio, mistune, mdurl, MarkupSafe, markdown, kiwisolver, jupyterlab-pygments, jsonpointer, json5, joblib, idna, h11, grpcio, gast, fsspec, fqdn, fonttools, filelock, executing, exceptiongroup, defusedxml, decorator, debugpy, cycler, charset-normalizer, certifi, bleach, babel, attrs, asttokens, absl-py, werkzeug, triton, terminado, stack_data, scipy, rfc3339-validator, requests, referencing, python-dateutil, optree, nvidia-cusparse-cu12, nvidia-cudnn-cu12, ml-dtypes, matplotlib-inline, markdown-it-py, jupyter-core, jinja2, jedi, httpcore, h5py, google-pasta, contourpy, comm, cffi, beautifulsoup4, async-lru, astunparse, anyio, tensorboard, scikit-learn, rich, pandas, nvidia-cusolver-cu12, matplotlib, jupyter-server-terminals, jupyter-client, jsonschema-specifications, ipython, httpx, arrow, argon2-cffi-bindings, torch, seaborn, keras, jsonschema, isoduration, ipykernel, argon2-cffi, tensorflow, nbformat, nbclient, jupyter-events, nbconvert, jupyter-server, notebook-shim, jupyterlab-server, jupyter-lsp, jupyterlab, notebook\n",
            "Successfully installed MarkupSafe-3.0.2 absl-py-2.1.0 anyio-4.6.2.post1 argon2-cffi-23.1.0 argon2-cffi-bindings-21.2.0 arrow-1.3.0 asttokens-3.0.0 astunparse-1.6.3 async-lru-2.0.4 attrs-24.2.0 babel-2.16.0 beautifulsoup4-4.12.3 bleach-6.2.0 certifi-2024.8.30 cffi-1.17.1 charset-normalizer-3.4.0 comm-0.2.2 contourpy-1.3.1 cycler-0.12.1 debugpy-1.8.9 decorator-5.1.1 defusedxml-0.7.1 exceptiongroup-1.2.2 executing-2.1.0 fastjsonschema-2.21.1 filelock-3.16.1 flatbuffers-24.3.25 fonttools-4.55.0 fqdn-1.5.1 fsspec-2024.10.0 gast-0.6.0 google-pasta-0.2.0 grpcio-1.68.1 h11-0.14.0 h5py-3.12.1 httpcore-1.0.7 httpx-0.28.0 idna-3.10 ipykernel-6.29.5 ipython-8.30.0 isoduration-20.11.0 jedi-0.19.2 jinja2-3.1.4 joblib-1.4.2 json5-0.10.0 jsonpointer-3.0.0 jsonschema-4.23.0 jsonschema-specifications-2024.10.1 jupyter-client-8.6.3 jupyter-core-5.7.2 jupyter-events-0.10.0 jupyter-lsp-2.2.5 jupyter-server-2.14.2 jupyter-server-terminals-0.5.3 jupyterlab-4.2.6 jupyterlab-pygments-0.3.0 jupyterlab-server-2.27.3 keras-3.7.0 kiwisolver-1.4.7 libclang-18.1.1 markdown-3.7 markdown-it-py-3.0.0 matplotlib-3.9.3 matplotlib-inline-0.1.7 mdurl-0.1.2 mistune-3.0.2 ml-dtypes-0.4.1 mpmath-1.3.0 namex-0.0.8 nbclient-0.10.1 nbconvert-7.16.4 nbformat-5.10.4 nest-asyncio-1.6.0 networkx-3.4.2 notebook-7.2.2 notebook-shim-0.2.4 numpy-2.0.2 nvidia-cublas-cu12-12.4.5.8 nvidia-cuda-cupti-cu12-12.4.127 nvidia-cuda-nvrtc-cu12-12.4.127 nvidia-cuda-runtime-cu12-12.4.127 nvidia-cudnn-cu12-9.1.0.70 nvidia-cufft-cu12-11.2.1.3 nvidia-curand-cu12-10.3.5.147 nvidia-cusolver-cu12-11.6.1.9 nvidia-cusparse-cu12-12.3.1.170 nvidia-nccl-cu12-2.21.5 nvidia-nvjitlink-cu12-12.4.127 nvidia-nvtx-cu12-12.4.127 opt-einsum-3.4.0 optree-0.13.1 overrides-7.7.0 packaging-24.2 pandas-2.2.3 pandocfilters-1.5.1 parso-0.8.4 pexpect-4.9.0 pillow-11.0.0 platformdirs-4.3.6 prometheus-client-0.21.0 prompt_toolkit-3.0.48 protobuf-5.29.0 psutil-6.1.0 ptyprocess-0.7.0 pure-eval-0.2.3 pycparser-2.22 pygments-2.18.0 pyparsing-3.2.0 python-dateutil-2.9.0.post0 python-json-logger-2.0.7 pytz-2024.2 pyyaml-6.0.2 pyzmq-26.2.0 referencing-0.35.1 requests-2.32.3 rfc3339-validator-0.1.4 rfc3986-validator-0.1.1 rich-13.9.4 rpds-py-0.21.0 scikit-learn-1.5.2 scipy-1.14.1 seaborn-0.13.2 send2trash-1.8.3 six-1.16.0 sniffio-1.3.1 soupsieve-2.6 stack_data-0.6.3 sympy-1.13.1 tensorboard-2.18.0 tensorboard-data-server-0.7.2 tensorflow-2.18.0 tensorflow-io-gcs-filesystem-0.37.1 termcolor-2.5.0 terminado-0.18.1 threadpoolctl-3.5.0 tinycss2-1.4.0 tomli-2.2.1 torch-2.5.1 tornado-6.4.2 traitlets-5.14.3 triton-3.1.0 types-python-dateutil-2.9.0.20241003 typing-extensions-4.12.2 tzdata-2024.2 uri-template-1.3.0 urllib3-2.2.3 wcwidth-0.2.13 webcolors-24.11.1 webencodings-0.5.1 websocket-client-1.8.0 werkzeug-3.1.3 wrapt-1.17.0\n"
          ]
        }
      ]
    },
    {
      "cell_type": "markdown",
      "source": [
        "> 4. Gere um arquivo de requerimentos (requirements.txt) com os pacotes necessários. É necessário se certificar que a versão do pacote está disponibilizada."
      ],
      "metadata": {
        "id": "w9XBl-x2mYif"
      }
    },
    {
      "cell_type": "code",
      "source": [
        "!pip freeze > requirements.txt"
      ],
      "metadata": {
        "id": "N-AfkilLnUHP"
      },
      "execution_count": null,
      "outputs": []
    },
    {
      "cell_type": "markdown",
      "source": [
        "> 5. Tire um printscreen do ambiente que será usado rodando em sua máquina."
      ],
      "metadata": {
        "id": "crrysR-Bm1-g"
      }
    },
    {
      "cell_type": "code",
      "source": [
        "!ambienteVirtual/bin/python -c \"import sys; print(sys.executable)\""
      ],
      "metadata": {
        "colab": {
          "base_uri": "https://localhost:8080/"
        },
        "id": "buIWyCCjne8n",
        "outputId": "b241dd99-ddb7-477b-b9e4-e25350c393f3"
      },
      "execution_count": null,
      "outputs": [
        {
          "output_type": "stream",
          "name": "stdout",
          "text": [
            "/content/ambienteVirtual/bin/python\n"
          ]
        }
      ]
    },
    {
      "cell_type": "markdown",
      "source": [
        "![image.png](data:image/png;base64,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)"
      ],
      "metadata": {
        "id": "IN30VZGcnmWH"
      }
    },
    {
      "cell_type": "markdown",
      "source": [
        ">6. Disponibilize os códigos gerados, assim como os artefatos acessórios (requirements.txt) e instruções em um repositório GIT público. (se isso não for feito, o diretório com esses arquivos deverá ser enviado compactado no moodle)."
      ],
      "metadata": {
        "id": "c9ZCPKREm3ZY"
      }
    },
    {
      "cell_type": "markdown",
      "source": [
        "![image.png](data:image/png;base64,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)"
      ],
      "metadata": {
        "id": "AG4e-x9mr22J"
      }
    },
    {
      "cell_type": "markdown",
      "source": [
        "**https://github.com/acrisandradee/validacaomodeloclusterizacao**"
      ],
      "metadata": {
        "id": "9H9IW-WTr8BZ"
      }
    },
    {
      "cell_type": "markdown",
      "source": [
        "\n",
        "\n",
        "---\n",
        "\n"
      ],
      "metadata": {
        "id": "7nhj-YE9m8xI"
      }
    },
    {
      "cell_type": "markdown",
      "source": [
        "# **Escolha de base de dados**"
      ],
      "metadata": {
        "id": "BYqJdL1dptQO"
      }
    },
    {
      "cell_type": "markdown",
      "source": [
        "Para as questões a seguir, usaremos uma base de dados e faremos a análise exploratória dos dados, antes da clusterização."
      ],
      "metadata": {
        "id": "bmxF7e4hpwo_"
      }
    },
    {
      "cell_type": "markdown",
      "source": [
        "> 1. Escolha uma base de dados para realizar o trabalho. Essa base será usada em um problema de clusterização."
      ],
      "metadata": {
        "id": "3M-8tPPJpy0n"
      }
    },
    {
      "cell_type": "markdown",
      "source": [
        "**https://www.kaggle.com/datasets/bhadramohit/customer-shopping-latest-trends-dataset**"
      ],
      "metadata": {
        "id": "MohowhNBsb2x"
      }
    },
    {
      "cell_type": "code",
      "source": [
        "import pandas as pd\n",
        "data = '/content/drive/MyDrive/pd_Validacaomodelosclusterizacao/archive/shopping_trends.csv'\n",
        "dados = pd.read_csv(data)\n",
        "print(dados.info)\n"
      ],
      "metadata": {
        "id": "h0Dz9Hs81Pbz",
        "colab": {
          "base_uri": "https://localhost:8080/"
        },
        "outputId": "e7caa923-9949-4f73-bbf3-3f08aafa9cbd"
      },
      "execution_count": 17,
      "outputs": [
        {
          "output_type": "stream",
          "name": "stdout",
          "text": [
            "<bound method DataFrame.info of       Customer ID  Age  Gender Item Purchased     Category  \\\n",
            "0               1   55    Male         Blouse     Clothing   \n",
            "1               2   19    Male        Sweater     Clothing   \n",
            "2               3   50    Male          Jeans     Clothing   \n",
            "3               4   21    Male        Sandals     Footwear   \n",
            "4               5   45    Male         Blouse     Clothing   \n",
            "...           ...  ...     ...            ...          ...   \n",
            "3895         3896   40  Female         Hoodie     Clothing   \n",
            "3896         3897   52  Female       Backpack  Accessories   \n",
            "3897         3898   46  Female           Belt  Accessories   \n",
            "3898         3899   44  Female          Shoes     Footwear   \n",
            "3899         3900   52  Female        Handbag  Accessories   \n",
            "\n",
            "      Purchase Amount (USD)       Location Size      Color  Season  \\\n",
            "0                        53       Kentucky    L       Gray  Winter   \n",
            "1                        64          Maine    L     Maroon  Winter   \n",
            "2                        73  Massachusetts    S     Maroon  Spring   \n",
            "3                        90   Rhode Island    M     Maroon  Spring   \n",
            "4                        49         Oregon    M  Turquoise  Spring   \n",
            "...                     ...            ...  ...        ...     ...   \n",
            "3895                     28       Virginia    L  Turquoise  Summer   \n",
            "3896                     49           Iowa    L      White  Spring   \n",
            "3897                     33     New Jersey    L      Green  Spring   \n",
            "3898                     77      Minnesota    S      Brown  Summer   \n",
            "3899                     81     California    M      Beige  Spring   \n",
            "\n",
            "      Review Rating Subscription Status Payment Method   Shipping Type  \\\n",
            "0               3.1                 Yes    Credit Card         Express   \n",
            "1               3.1                 Yes  Bank Transfer         Express   \n",
            "2               3.1                 Yes           Cash   Free Shipping   \n",
            "3               3.5                 Yes         PayPal    Next Day Air   \n",
            "4               2.7                 Yes           Cash   Free Shipping   \n",
            "...             ...                 ...            ...             ...   \n",
            "3895            4.2                  No           Cash  2-Day Shipping   \n",
            "3896            4.5                  No         PayPal    Store Pickup   \n",
            "3897            2.9                  No    Credit Card        Standard   \n",
            "3898            3.8                  No         PayPal         Express   \n",
            "3899            3.1                  No  Bank Transfer    Store Pickup   \n",
            "\n",
            "     Discount Applied Promo Code Used  Previous Purchases  \\\n",
            "0                 Yes             Yes                  14   \n",
            "1                 Yes             Yes                   2   \n",
            "2                 Yes             Yes                  23   \n",
            "3                 Yes             Yes                  49   \n",
            "4                 Yes             Yes                  31   \n",
            "...               ...             ...                 ...   \n",
            "3895               No              No                  32   \n",
            "3896               No              No                  41   \n",
            "3897               No              No                  24   \n",
            "3898               No              No                  24   \n",
            "3899               No              No                  33   \n",
            "\n",
            "     Preferred Payment Method Frequency of Purchases  \n",
            "0                       Venmo            Fortnightly  \n",
            "1                        Cash            Fortnightly  \n",
            "2                 Credit Card                 Weekly  \n",
            "3                      PayPal                 Weekly  \n",
            "4                      PayPal               Annually  \n",
            "...                       ...                    ...  \n",
            "3895                    Venmo                 Weekly  \n",
            "3896            Bank Transfer              Bi-Weekly  \n",
            "3897                    Venmo              Quarterly  \n",
            "3898                    Venmo                 Weekly  \n",
            "3899                    Venmo              Quarterly  \n",
            "\n",
            "[3900 rows x 19 columns]>\n"
          ]
        }
      ]
    },
    {
      "cell_type": "code",
      "source": [
        "#Verificando se há dados nulos para tratarmos\n",
        "print(dados.isnull().sum())"
      ],
      "metadata": {
        "colab": {
          "base_uri": "https://localhost:8080/"
        },
        "id": "mc1SSfv14WF3",
        "outputId": "14561bc1-d5f9-4415-f86b-5a602c6c3eac"
      },
      "execution_count": 12,
      "outputs": [
        {
          "output_type": "stream",
          "name": "stdout",
          "text": [
            "Customer ID                 0\n",
            "Age                         0\n",
            "Gender                      0\n",
            "Item Purchased              0\n",
            "Category                    0\n",
            "Purchase Amount (USD)       0\n",
            "Location                    0\n",
            "Size                        0\n",
            "Color                       0\n",
            "Season                      0\n",
            "Review Rating               0\n",
            "Subscription Status         0\n",
            "Payment Method              0\n",
            "Shipping Type               0\n",
            "Discount Applied            0\n",
            "Promo Code Used             0\n",
            "Previous Purchases          0\n",
            "Preferred Payment Method    0\n",
            "Frequency of Purchases      0\n",
            "dtype: int64\n"
          ]
        }
      ]
    },
    {
      "cell_type": "code",
      "source": [
        "dados.dtypes"
      ],
      "metadata": {
        "colab": {
          "base_uri": "https://localhost:8080/",
          "height": 680
        },
        "id": "6ZwITyU09-ZU",
        "outputId": "c013ae5d-a0bf-4c5f-9af5-6509950e8d5d"
      },
      "execution_count": 19,
      "outputs": [
        {
          "output_type": "execute_result",
          "data": {
            "text/plain": [
              "Customer ID                   int64\n",
              "Age                           int64\n",
              "Gender                       object\n",
              "Item Purchased               object\n",
              "Category                     object\n",
              "Purchase Amount (USD)         int64\n",
              "Location                     object\n",
              "Size                         object\n",
              "Color                        object\n",
              "Season                       object\n",
              "Review Rating               float64\n",
              "Subscription Status          object\n",
              "Payment Method               object\n",
              "Shipping Type                object\n",
              "Discount Applied             object\n",
              "Promo Code Used              object\n",
              "Previous Purchases            int64\n",
              "Preferred Payment Method     object\n",
              "Frequency of Purchases       object\n",
              "dtype: object"
            ],
            "text/html": [
              "<div>\n",
              "<style scoped>\n",
              "    .dataframe tbody tr th:only-of-type {\n",
              "        vertical-align: middle;\n",
              "    }\n",
              "\n",
              "    .dataframe tbody tr th {\n",
              "        vertical-align: top;\n",
              "    }\n",
              "\n",
              "    .dataframe thead th {\n",
              "        text-align: right;\n",
              "    }\n",
              "</style>\n",
              "<table border=\"1\" class=\"dataframe\">\n",
              "  <thead>\n",
              "    <tr style=\"text-align: right;\">\n",
              "      <th></th>\n",
              "      <th>0</th>\n",
              "    </tr>\n",
              "  </thead>\n",
              "  <tbody>\n",
              "    <tr>\n",
              "      <th>Customer ID</th>\n",
              "      <td>int64</td>\n",
              "    </tr>\n",
              "    <tr>\n",
              "      <th>Age</th>\n",
              "      <td>int64</td>\n",
              "    </tr>\n",
              "    <tr>\n",
              "      <th>Gender</th>\n",
              "      <td>object</td>\n",
              "    </tr>\n",
              "    <tr>\n",
              "      <th>Item Purchased</th>\n",
              "      <td>object</td>\n",
              "    </tr>\n",
              "    <tr>\n",
              "      <th>Category</th>\n",
              "      <td>object</td>\n",
              "    </tr>\n",
              "    <tr>\n",
              "      <th>Purchase Amount (USD)</th>\n",
              "      <td>int64</td>\n",
              "    </tr>\n",
              "    <tr>\n",
              "      <th>Location</th>\n",
              "      <td>object</td>\n",
              "    </tr>\n",
              "    <tr>\n",
              "      <th>Size</th>\n",
              "      <td>object</td>\n",
              "    </tr>\n",
              "    <tr>\n",
              "      <th>Color</th>\n",
              "      <td>object</td>\n",
              "    </tr>\n",
              "    <tr>\n",
              "      <th>Season</th>\n",
              "      <td>object</td>\n",
              "    </tr>\n",
              "    <tr>\n",
              "      <th>Review Rating</th>\n",
              "      <td>float64</td>\n",
              "    </tr>\n",
              "    <tr>\n",
              "      <th>Subscription Status</th>\n",
              "      <td>object</td>\n",
              "    </tr>\n",
              "    <tr>\n",
              "      <th>Payment Method</th>\n",
              "      <td>object</td>\n",
              "    </tr>\n",
              "    <tr>\n",
              "      <th>Shipping Type</th>\n",
              "      <td>object</td>\n",
              "    </tr>\n",
              "    <tr>\n",
              "      <th>Discount Applied</th>\n",
              "      <td>object</td>\n",
              "    </tr>\n",
              "    <tr>\n",
              "      <th>Promo Code Used</th>\n",
              "      <td>object</td>\n",
              "    </tr>\n",
              "    <tr>\n",
              "      <th>Previous Purchases</th>\n",
              "      <td>int64</td>\n",
              "    </tr>\n",
              "    <tr>\n",
              "      <th>Preferred Payment Method</th>\n",
              "      <td>object</td>\n",
              "    </tr>\n",
              "    <tr>\n",
              "      <th>Frequency of Purchases</th>\n",
              "      <td>object</td>\n",
              "    </tr>\n",
              "  </tbody>\n",
              "</table>\n",
              "</div><br><label><b>dtype:</b> object</label>"
            ]
          },
          "metadata": {},
          "execution_count": 19
        }
      ]
    },
    {
      "cell_type": "markdown",
      "source": [
        ">2. Escreva a justificativa para a escolha de dados, dando sua motivação e objetivos."
      ],
      "metadata": {
        "id": "ifhdHVKMp2eP"
      }
    },
    {
      "cell_type": "markdown",
      "source": [
        "  -- Este é um otimo conjunto de dados para trabalharmos pois mostra dados de compras e de clientes. da um portifolio legal pois podemos trabalhar analisando padroes de compras ao longo do tempo,gerar modelos preditivos para previsão de vendas dentre outros."
      ],
      "metadata": {
        "id": "ugwEvjne7blx"
      }
    },
    {
      "cell_type": "markdown",
      "source": [
        "> 3. Mostre através de gráficos a faixa dinâmica das variáveis que serão usadas nas tarefas de clusterização. Analise os resultados mostrados. O que deve ser feito com os dados antes da etapa de clusterização?"
      ],
      "metadata": {
        "id": "AIGncKCXp4kf"
      }
    },
    {
      "cell_type": "code",
      "source": [
        "variables = data.select_dtypes(include=['float64', 'int64'])\n",
        "print(variables.describe())"
      ],
      "metadata": {
        "colab": {
          "base_uri": "https://localhost:8080/",
          "height": 166
        },
        "id": "vX3R_BD9-fL0",
        "outputId": "e53e9b3e-6678-4eb6-ade9-ffe2709495cf"
      },
      "execution_count": 20,
      "outputs": [
        {
          "output_type": "error",
          "ename": "AttributeError",
          "evalue": "'str' object has no attribute 'select_dtypes'",
          "traceback": [
            "\u001b[0;31m---------------------------------------------------------------------------\u001b[0m",
            "\u001b[0;31mAttributeError\u001b[0m                            Traceback (most recent call last)",
            "\u001b[0;32m<ipython-input-20-128356b95e67>\u001b[0m in \u001b[0;36m<cell line: 1>\u001b[0;34m()\u001b[0m\n\u001b[0;32m----> 1\u001b[0;31m \u001b[0mvariables\u001b[0m \u001b[0;34m=\u001b[0m \u001b[0mdata\u001b[0m\u001b[0;34m.\u001b[0m\u001b[0mselect_dtypes\u001b[0m\u001b[0;34m(\u001b[0m\u001b[0minclude\u001b[0m\u001b[0;34m=\u001b[0m\u001b[0;34m[\u001b[0m\u001b[0;34m'float64'\u001b[0m\u001b[0;34m,\u001b[0m \u001b[0;34m'int64'\u001b[0m\u001b[0;34m]\u001b[0m\u001b[0;34m)\u001b[0m\u001b[0;34m\u001b[0m\u001b[0;34m\u001b[0m\u001b[0m\n\u001b[0m\u001b[1;32m      2\u001b[0m \u001b[0mprint\u001b[0m\u001b[0;34m(\u001b[0m\u001b[0mvariables\u001b[0m\u001b[0;34m.\u001b[0m\u001b[0mdescribe\u001b[0m\u001b[0;34m(\u001b[0m\u001b[0;34m)\u001b[0m\u001b[0;34m)\u001b[0m\u001b[0;34m\u001b[0m\u001b[0;34m\u001b[0m\u001b[0m\n",
            "\u001b[0;31mAttributeError\u001b[0m: 'str' object has no attribute 'select_dtypes'"
          ]
        }
      ]
    },
    {
      "cell_type": "markdown",
      "source": [
        ">4. Realize o pré-processamento adequado dos dados. Descreva os passos necessários."
      ],
      "metadata": {
        "id": "MaOm5jvcp7rv"
      }
    },
    {
      "cell_type": "markdown",
      "source": [
        "\n",
        "\n",
        "---\n",
        "\n"
      ],
      "metadata": {
        "id": "4o7_Uxsdp-Zn"
      }
    },
    {
      "cell_type": "markdown",
      "source": [
        "# **Clusterização**"
      ],
      "metadata": {
        "id": "XUiPQ0Tsp_v3"
      }
    },
    {
      "cell_type": "markdown",
      "source": [
        "Para os dados pré-processados da etapa anterior você irá:"
      ],
      "metadata": {
        "id": "EJdxcIfJqDAw"
      }
    },
    {
      "cell_type": "markdown",
      "source": [
        ">1. Realizar o agrupamento dos dados, escolhendo o número ótimo de clusters. Para tal, use o índice de silhueta e as técnicas:"
      ],
      "metadata": {
        "id": "Pfyt5LPUqGzX"
      }
    },
    {
      "cell_type": "markdown",
      "source": [
        "a. K-Médias"
      ],
      "metadata": {
        "id": "BBcw6piTqNMY"
      }
    },
    {
      "cell_type": "markdown",
      "source": [
        "b.DBScan"
      ],
      "metadata": {
        "id": "mmCr6dp3qPiP"
      }
    },
    {
      "cell_type": "markdown",
      "source": [
        ">2. Com os resultados em mão, descreva o processo de mensuração do índice de silhueta. Mostre o gráfico e justifique o número de clusters escolhidos."
      ],
      "metadata": {
        "id": "75WJAgVOqS9Q"
      }
    },
    {
      "cell_type": "markdown",
      "source": [
        ">3. Compare os dois resultados, aponte as semelhanças e diferenças e interprete."
      ],
      "metadata": {
        "id": "z7NxPUDUrccb"
      }
    },
    {
      "cell_type": "markdown",
      "source": [
        ">4.Escolha mais duas medidas de validação para comparar com o índice de silhueta e analise os resultados encontrados."
      ],
      "metadata": {
        "id": "aJQmI0jsrtDb"
      }
    },
    {
      "cell_type": "markdown",
      "source": [
        ">5. Realizando a análise, responda: A silhueta é um o índice indicado para escolher o número de clusters para o algoritmo de DBScan?"
      ],
      "metadata": {
        "id": "BMq44UVorvjL"
      }
    },
    {
      "cell_type": "markdown",
      "source": [
        "\n",
        "\n",
        "---\n",
        "\n"
      ],
      "metadata": {
        "id": "8Lg1etBYryxT"
      }
    },
    {
      "cell_type": "markdown",
      "source": [
        "# **Medidas de similaridade**"
      ],
      "metadata": {
        "id": "_99EvUXFrzwb"
      }
    },
    {
      "cell_type": "markdown",
      "source": [
        ">1. Um determinado problema, apresenta 10 séries temporais distintas. Gostaríamos de agrupá-las em 3 grupos, de acordo com um critério de similaridade, baseado no valor máximo de correlação cruzada entre elas. Descreva em tópicos todos os passos necessários."
      ],
      "metadata": {
        "id": "U_zQa66OsR6s"
      }
    },
    {
      "cell_type": "markdown",
      "source": [
        ">2. Para o problema da questão anterior, indique qual algoritmo de clusterização você usaria. Justifique."
      ],
      "metadata": {
        "id": "nxHqVNHDsUW0"
      }
    },
    {
      "cell_type": "markdown",
      "source": [
        ">3.Indique um caso de uso para essa solução projetada."
      ],
      "metadata": {
        "id": "P8JHGjoPsX79"
      }
    },
    {
      "cell_type": "markdown",
      "source": [
        ">4. Sugira outra estratégia para medir a similaridade entre séries temporais. Descreva em tópicos os passos necessários."
      ],
      "metadata": {
        "id": "ADZJzGr5sbFl"
      }
    }
  ]
}